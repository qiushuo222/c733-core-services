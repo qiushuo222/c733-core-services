{
 "cells": [
  {
   "cell_type": "code",
   "execution_count": 1,
   "metadata": {},
   "outputs": [],
   "source": [
    "import numpy as np\n",
    "import pandas as pd\n",
    "from matplotlib import pyplot as plt\n",
    "import torch.nn as nn\n",
    "from torch.nn import Sequential\n",
    "from torch.autograd import Variable\n",
    "\n",
    "from sklearn.ensemble import RandomForestRegressor\n",
    "from sklearn.tree import DecisionTreeRegressor\n",
    "from sklearn.neighbors import KNeighborsRegressor\n",
    "from sklearn.preprocessing import StandardScaler\n",
    "from sklearn.model_selection import train_test_split\n",
    "from sklearn.metrics import mean_squared_error, log_loss\n",
    "from sklearn.neural_network import MLPRegressor\n",
    "from sklearn import svm\n",
    "\n",
    "from IPython.display import Markdown, display\n",
    "\n",
    "import warnings\n",
    "warnings.filterwarnings('ignore')"
   ]
  },
  {
   "cell_type": "markdown",
   "metadata": {},
   "source": [
    "## Load Data"
   ]
  },
  {
   "cell_type": "code",
   "execution_count": 2,
   "metadata": {},
   "outputs": [],
   "source": [
    "df = pd.read_csv(\n",
    "    \"data/plos_fulldata.csv\",\n",
    "    # names=header,\n",
    "    index_col=0)"
   ]
  },
  {
   "cell_type": "code",
   "execution_count": 3,
   "metadata": {},
   "outputs": [
    {
     "data": {
      "text/html": [
       "<div>\n",
       "<style scoped>\n",
       "    .dataframe tbody tr th:only-of-type {\n",
       "        vertical-align: middle;\n",
       "    }\n",
       "\n",
       "    .dataframe tbody tr th {\n",
       "        vertical-align: top;\n",
       "    }\n",
       "\n",
       "    .dataframe thead th {\n",
       "        text-align: right;\n",
       "    }\n",
       "</style>\n",
       "<table border=\"1\" class=\"dataframe\">\n",
       "  <thead>\n",
       "    <tr style=\"text-align: right;\">\n",
       "      <th></th>\n",
       "      <th>filename</th>\n",
       "      <th>doi_x</th>\n",
       "      <th>AccessionID</th>\n",
       "      <th>reading_time</th>\n",
       "      <th>flesch_reading_score</th>\n",
       "      <th>dale_chall_readability_score</th>\n",
       "      <th>total_paragraphs</th>\n",
       "      <th>avg_sentences_per_para</th>\n",
       "      <th>len_of_longest_paragraph</th>\n",
       "      <th>total_sentences</th>\n",
       "      <th>...</th>\n",
       "      <th>cited_by_qna_count</th>\n",
       "      <th>cited_by_peer_review_sites_count</th>\n",
       "      <th>cited_by_weibo_count</th>\n",
       "      <th>cited_by_pinners_count</th>\n",
       "      <th>cited_by_linkedin_count</th>\n",
       "      <th>urn</th>\n",
       "      <th>cited_by_book_reviews_count</th>\n",
       "      <th>editors</th>\n",
       "      <th>attribution</th>\n",
       "      <th>ordinal_number</th>\n",
       "    </tr>\n",
       "  </thead>\n",
       "  <tbody>\n",
       "    <tr>\n",
       "      <th>0</th>\n",
       "      <td>journal.pone.0080347.xml</td>\n",
       "      <td>10.1371/journal.pone.0080347</td>\n",
       "      <td>journal.pone.0080347</td>\n",
       "      <td>29.270</td>\n",
       "      <td>38.69</td>\n",
       "      <td>7.5</td>\n",
       "      <td>36</td>\n",
       "      <td>6.72</td>\n",
       "      <td>21</td>\n",
       "      <td>242</td>\n",
       "      <td>...</td>\n",
       "      <td>NaN</td>\n",
       "      <td>NaN</td>\n",
       "      <td>NaN</td>\n",
       "      <td>NaN</td>\n",
       "      <td>NaN</td>\n",
       "      <td>NaN</td>\n",
       "      <td>NaN</td>\n",
       "      <td>NaN</td>\n",
       "      <td>NaN</td>\n",
       "      <td>NaN</td>\n",
       "    </tr>\n",
       "    <tr>\n",
       "      <th>1</th>\n",
       "      <td>journal.pone.0054670.xml</td>\n",
       "      <td>10.1371/journal.pone.0054670</td>\n",
       "      <td>journal.pone.0054670</td>\n",
       "      <td>17.565</td>\n",
       "      <td>29.11</td>\n",
       "      <td>7.3</td>\n",
       "      <td>33</td>\n",
       "      <td>4.67</td>\n",
       "      <td>13</td>\n",
       "      <td>154</td>\n",
       "      <td>...</td>\n",
       "      <td>NaN</td>\n",
       "      <td>NaN</td>\n",
       "      <td>NaN</td>\n",
       "      <td>NaN</td>\n",
       "      <td>NaN</td>\n",
       "      <td>NaN</td>\n",
       "      <td>NaN</td>\n",
       "      <td>NaN</td>\n",
       "      <td>NaN</td>\n",
       "      <td>NaN</td>\n",
       "    </tr>\n",
       "    <tr>\n",
       "      <th>2</th>\n",
       "      <td>journal.pone.0195986.xml</td>\n",
       "      <td>10.1371/journal.pone.0195986</td>\n",
       "      <td>journal.pone.0195986</td>\n",
       "      <td>25.780</td>\n",
       "      <td>26.14</td>\n",
       "      <td>7.7</td>\n",
       "      <td>48</td>\n",
       "      <td>4.98</td>\n",
       "      <td>10</td>\n",
       "      <td>239</td>\n",
       "      <td>...</td>\n",
       "      <td>NaN</td>\n",
       "      <td>NaN</td>\n",
       "      <td>NaN</td>\n",
       "      <td>NaN</td>\n",
       "      <td>NaN</td>\n",
       "      <td>NaN</td>\n",
       "      <td>NaN</td>\n",
       "      <td>NaN</td>\n",
       "      <td>NaN</td>\n",
       "      <td>NaN</td>\n",
       "    </tr>\n",
       "    <tr>\n",
       "      <th>3</th>\n",
       "      <td>journal.pone.0150364.xml</td>\n",
       "      <td>10.1371/journal.pone.0150364</td>\n",
       "      <td>journal.pone.0150364</td>\n",
       "      <td>25.815</td>\n",
       "      <td>28.30</td>\n",
       "      <td>7.8</td>\n",
       "      <td>43</td>\n",
       "      <td>4.81</td>\n",
       "      <td>10</td>\n",
       "      <td>207</td>\n",
       "      <td>...</td>\n",
       "      <td>NaN</td>\n",
       "      <td>NaN</td>\n",
       "      <td>NaN</td>\n",
       "      <td>NaN</td>\n",
       "      <td>NaN</td>\n",
       "      <td>NaN</td>\n",
       "      <td>NaN</td>\n",
       "      <td>NaN</td>\n",
       "      <td>NaN</td>\n",
       "      <td>NaN</td>\n",
       "    </tr>\n",
       "    <tr>\n",
       "      <th>4</th>\n",
       "      <td>journal.pone.0184653.xml</td>\n",
       "      <td>10.1371/journal.pone.0184653</td>\n",
       "      <td>journal.pone.0184653</td>\n",
       "      <td>27.640</td>\n",
       "      <td>34.60</td>\n",
       "      <td>7.2</td>\n",
       "      <td>47</td>\n",
       "      <td>5.40</td>\n",
       "      <td>16</td>\n",
       "      <td>254</td>\n",
       "      <td>...</td>\n",
       "      <td>NaN</td>\n",
       "      <td>NaN</td>\n",
       "      <td>NaN</td>\n",
       "      <td>NaN</td>\n",
       "      <td>NaN</td>\n",
       "      <td>NaN</td>\n",
       "      <td>NaN</td>\n",
       "      <td>NaN</td>\n",
       "      <td>NaN</td>\n",
       "      <td>NaN</td>\n",
       "    </tr>\n",
       "    <tr>\n",
       "      <th>...</th>\n",
       "      <td>...</td>\n",
       "      <td>...</td>\n",
       "      <td>...</td>\n",
       "      <td>...</td>\n",
       "      <td>...</td>\n",
       "      <td>...</td>\n",
       "      <td>...</td>\n",
       "      <td>...</td>\n",
       "      <td>...</td>\n",
       "      <td>...</td>\n",
       "      <td>...</td>\n",
       "      <td>...</td>\n",
       "      <td>...</td>\n",
       "      <td>...</td>\n",
       "      <td>...</td>\n",
       "      <td>...</td>\n",
       "      <td>...</td>\n",
       "      <td>...</td>\n",
       "      <td>...</td>\n",
       "      <td>...</td>\n",
       "      <td>...</td>\n",
       "    </tr>\n",
       "    <tr>\n",
       "      <th>189843</th>\n",
       "      <td>journal.pone.0212848.xml</td>\n",
       "      <td>10.1371/journal.pone.0212848</td>\n",
       "      <td>journal.pone.0212848</td>\n",
       "      <td>16.840</td>\n",
       "      <td>29.56</td>\n",
       "      <td>7.6</td>\n",
       "      <td>36</td>\n",
       "      <td>3.64</td>\n",
       "      <td>10</td>\n",
       "      <td>131</td>\n",
       "      <td>...</td>\n",
       "      <td>NaN</td>\n",
       "      <td>NaN</td>\n",
       "      <td>NaN</td>\n",
       "      <td>NaN</td>\n",
       "      <td>NaN</td>\n",
       "      <td>NaN</td>\n",
       "      <td>NaN</td>\n",
       "      <td>NaN</td>\n",
       "      <td>NaN</td>\n",
       "      <td>NaN</td>\n",
       "    </tr>\n",
       "    <tr>\n",
       "      <th>189844</th>\n",
       "      <td>journal.pone.0157412.xml</td>\n",
       "      <td>10.1371/journal.pone.0157412</td>\n",
       "      <td>journal.pone.0157412</td>\n",
       "      <td>16.545</td>\n",
       "      <td>22.58</td>\n",
       "      <td>6.9</td>\n",
       "      <td>24</td>\n",
       "      <td>6.38</td>\n",
       "      <td>17</td>\n",
       "      <td>153</td>\n",
       "      <td>...</td>\n",
       "      <td>NaN</td>\n",
       "      <td>NaN</td>\n",
       "      <td>NaN</td>\n",
       "      <td>NaN</td>\n",
       "      <td>NaN</td>\n",
       "      <td>NaN</td>\n",
       "      <td>NaN</td>\n",
       "      <td>NaN</td>\n",
       "      <td>NaN</td>\n",
       "      <td>NaN</td>\n",
       "    </tr>\n",
       "    <tr>\n",
       "      <th>189845</th>\n",
       "      <td>journal.pone.0109208.xml</td>\n",
       "      <td>10.1371/journal.pone.0109208</td>\n",
       "      <td>journal.pone.0109208</td>\n",
       "      <td>24.015</td>\n",
       "      <td>27.25</td>\n",
       "      <td>7.2</td>\n",
       "      <td>38</td>\n",
       "      <td>6.71</td>\n",
       "      <td>23</td>\n",
       "      <td>255</td>\n",
       "      <td>...</td>\n",
       "      <td>NaN</td>\n",
       "      <td>NaN</td>\n",
       "      <td>NaN</td>\n",
       "      <td>NaN</td>\n",
       "      <td>NaN</td>\n",
       "      <td>NaN</td>\n",
       "      <td>NaN</td>\n",
       "      <td>NaN</td>\n",
       "      <td>NaN</td>\n",
       "      <td>NaN</td>\n",
       "    </tr>\n",
       "    <tr>\n",
       "      <th>189846</th>\n",
       "      <td>journal.pntd.0004608.xml</td>\n",
       "      <td>10.1371/journal.pntd.0004608</td>\n",
       "      <td>journal.pntd.0004608</td>\n",
       "      <td>22.815</td>\n",
       "      <td>37.57</td>\n",
       "      <td>7.3</td>\n",
       "      <td>32</td>\n",
       "      <td>5.56</td>\n",
       "      <td>14</td>\n",
       "      <td>178</td>\n",
       "      <td>...</td>\n",
       "      <td>NaN</td>\n",
       "      <td>NaN</td>\n",
       "      <td>NaN</td>\n",
       "      <td>NaN</td>\n",
       "      <td>NaN</td>\n",
       "      <td>NaN</td>\n",
       "      <td>NaN</td>\n",
       "      <td>NaN</td>\n",
       "      <td>NaN</td>\n",
       "      <td>NaN</td>\n",
       "    </tr>\n",
       "    <tr>\n",
       "      <th>189847</th>\n",
       "      <td>journal.pone.0087431.xml</td>\n",
       "      <td>10.1371/journal.pone.0087431</td>\n",
       "      <td>journal.pone.0087431</td>\n",
       "      <td>7.015</td>\n",
       "      <td>33.28</td>\n",
       "      <td>8.1</td>\n",
       "      <td>22</td>\n",
       "      <td>3.32</td>\n",
       "      <td>7</td>\n",
       "      <td>73</td>\n",
       "      <td>...</td>\n",
       "      <td>NaN</td>\n",
       "      <td>NaN</td>\n",
       "      <td>NaN</td>\n",
       "      <td>NaN</td>\n",
       "      <td>NaN</td>\n",
       "      <td>NaN</td>\n",
       "      <td>NaN</td>\n",
       "      <td>NaN</td>\n",
       "      <td>NaN</td>\n",
       "      <td>NaN</td>\n",
       "    </tr>\n",
       "  </tbody>\n",
       "</table>\n",
       "<p>189848 rows × 79 columns</p>\n",
       "</div>"
      ],
      "text/plain": [
       "                        filename                         doi_x  \\\n",
       "0       journal.pone.0080347.xml  10.1371/journal.pone.0080347   \n",
       "1       journal.pone.0054670.xml  10.1371/journal.pone.0054670   \n",
       "2       journal.pone.0195986.xml  10.1371/journal.pone.0195986   \n",
       "3       journal.pone.0150364.xml  10.1371/journal.pone.0150364   \n",
       "4       journal.pone.0184653.xml  10.1371/journal.pone.0184653   \n",
       "...                          ...                           ...   \n",
       "189843  journal.pone.0212848.xml  10.1371/journal.pone.0212848   \n",
       "189844  journal.pone.0157412.xml  10.1371/journal.pone.0157412   \n",
       "189845  journal.pone.0109208.xml  10.1371/journal.pone.0109208   \n",
       "189846  journal.pntd.0004608.xml  10.1371/journal.pntd.0004608   \n",
       "189847  journal.pone.0087431.xml  10.1371/journal.pone.0087431   \n",
       "\n",
       "                 AccessionID  reading_time  flesch_reading_score  \\\n",
       "0       journal.pone.0080347        29.270                 38.69   \n",
       "1       journal.pone.0054670        17.565                 29.11   \n",
       "2       journal.pone.0195986        25.780                 26.14   \n",
       "3       journal.pone.0150364        25.815                 28.30   \n",
       "4       journal.pone.0184653        27.640                 34.60   \n",
       "...                      ...           ...                   ...   \n",
       "189843  journal.pone.0212848        16.840                 29.56   \n",
       "189844  journal.pone.0157412        16.545                 22.58   \n",
       "189845  journal.pone.0109208        24.015                 27.25   \n",
       "189846  journal.pntd.0004608        22.815                 37.57   \n",
       "189847  journal.pone.0087431         7.015                 33.28   \n",
       "\n",
       "        dale_chall_readability_score  total_paragraphs  \\\n",
       "0                                7.5                36   \n",
       "1                                7.3                33   \n",
       "2                                7.7                48   \n",
       "3                                7.8                43   \n",
       "4                                7.2                47   \n",
       "...                              ...               ...   \n",
       "189843                           7.6                36   \n",
       "189844                           6.9                24   \n",
       "189845                           7.2                38   \n",
       "189846                           7.3                32   \n",
       "189847                           8.1                22   \n",
       "\n",
       "        avg_sentences_per_para  len_of_longest_paragraph  total_sentences  \\\n",
       "0                         6.72                        21              242   \n",
       "1                         4.67                        13              154   \n",
       "2                         4.98                        10              239   \n",
       "3                         4.81                        10              207   \n",
       "4                         5.40                        16              254   \n",
       "...                        ...                       ...              ...   \n",
       "189843                    3.64                        10              131   \n",
       "189844                    6.38                        17              153   \n",
       "189845                    6.71                        23              255   \n",
       "189846                    5.56                        14              178   \n",
       "189847                    3.32                         7               73   \n",
       "\n",
       "        ...  cited_by_qna_count  cited_by_peer_review_sites_count  \\\n",
       "0       ...                 NaN                               NaN   \n",
       "1       ...                 NaN                               NaN   \n",
       "2       ...                 NaN                               NaN   \n",
       "3       ...                 NaN                               NaN   \n",
       "4       ...                 NaN                               NaN   \n",
       "...     ...                 ...                               ...   \n",
       "189843  ...                 NaN                               NaN   \n",
       "189844  ...                 NaN                               NaN   \n",
       "189845  ...                 NaN                               NaN   \n",
       "189846  ...                 NaN                               NaN   \n",
       "189847  ...                 NaN                               NaN   \n",
       "\n",
       "        cited_by_weibo_count  cited_by_pinners_count  cited_by_linkedin_count  \\\n",
       "0                        NaN                     NaN                      NaN   \n",
       "1                        NaN                     NaN                      NaN   \n",
       "2                        NaN                     NaN                      NaN   \n",
       "3                        NaN                     NaN                      NaN   \n",
       "4                        NaN                     NaN                      NaN   \n",
       "...                      ...                     ...                      ...   \n",
       "189843                   NaN                     NaN                      NaN   \n",
       "189844                   NaN                     NaN                      NaN   \n",
       "189845                   NaN                     NaN                      NaN   \n",
       "189846                   NaN                     NaN                      NaN   \n",
       "189847                   NaN                     NaN                      NaN   \n",
       "\n",
       "        urn  cited_by_book_reviews_count  editors  attribution  ordinal_number  \n",
       "0       NaN                          NaN      NaN          NaN             NaN  \n",
       "1       NaN                          NaN      NaN          NaN             NaN  \n",
       "2       NaN                          NaN      NaN          NaN             NaN  \n",
       "3       NaN                          NaN      NaN          NaN             NaN  \n",
       "4       NaN                          NaN      NaN          NaN             NaN  \n",
       "...     ...                          ...      ...          ...             ...  \n",
       "189843  NaN                          NaN      NaN          NaN             NaN  \n",
       "189844  NaN                          NaN      NaN          NaN             NaN  \n",
       "189845  NaN                          NaN      NaN          NaN             NaN  \n",
       "189846  NaN                          NaN      NaN          NaN             NaN  \n",
       "189847  NaN                          NaN      NaN          NaN             NaN  \n",
       "\n",
       "[189848 rows x 79 columns]"
      ]
     },
     "metadata": {},
     "output_type": "display_data"
    }
   ],
   "source": [
    "display(df)"
   ]
  },
  {
   "cell_type": "code",
   "execution_count": 5,
   "metadata": {},
   "outputs": [
    {
     "data": {
      "text/plain": [
       "filename                             object\n",
       "doi_x                                object\n",
       "AccessionID                          object\n",
       "reading_time                        float64\n",
       "flesch_reading_score                float64\n",
       "dale_chall_readability_score        float64\n",
       "total_paragraphs                      int64\n",
       "avg_sentences_per_para              float64\n",
       "len_of_longest_paragraph              int64\n",
       "total_sentences                       int64\n",
       "avg_words_per_sentence              float64\n",
       "len_of_longest_sentence               int64\n",
       "total_words                           int64\n",
       "compulsive_hedgers                    int64\n",
       "intensifiers                          int64\n",
       "and_frequency                       float64\n",
       "vague_words_count                     int64\n",
       "vague_words_frequency               float64\n",
       "polysyllab_count                      int64\n",
       "polysyllab_frequency                float64\n",
       "title                                object\n",
       "doi_y                                object\n",
       "pmid                                float64\n",
       "pmc                                  object\n",
       "ads_id                               object\n",
       "uri                                  object\n",
       "altmetric_jid                        object\n",
       "issns                                object\n",
       "journal                              object\n",
       "cohorts                              object\n",
       "abstract                             object\n",
       "abstract_source                      object\n",
       "context                              object\n",
       "authors                              object\n",
       "type                                 object\n",
       "altmetric_id                          int64\n",
       "schema                               object\n",
       "is_oa                                  bool\n",
       "publisher_subjects                   object\n",
       "cited_by_fbwalls_count              float64\n",
       "cited_by_feeds_count                float64\n",
       "cited_by_gplus_count                float64\n",
       "cited_by_msm_count                  float64\n",
       "cited_by_posts_count                  int64\n",
       "cited_by_tweeters_count             float64\n",
       "cited_by_wikipedia_count            float64\n",
       "cited_by_accounts_count               int64\n",
       "last_updated                          int64\n",
       "score                               float64\n",
       "history                              object\n",
       "url                                  object\n",
       "added_on                              int64\n",
       "published_on                          int64\n",
       "subjects                             object\n",
       "scopus_subjects                      object\n",
       "readers                              object\n",
       "readers_count                         int64\n",
       "images                               object\n",
       "details_url                          object\n",
       "meta_id                              object\n",
       "isbns                                object\n",
       "handles                              object\n",
       "cited_by_rh_count                   float64\n",
       "cited_by_patents_count              float64\n",
       "cited_by_rdts_count                 float64\n",
       "handle                               object\n",
       "arxiv_id                             object\n",
       "cited_by_videos_count               float64\n",
       "cited_by_policies_count             float64\n",
       "cited_by_qna_count                  float64\n",
       "cited_by_peer_review_sites_count    float64\n",
       "cited_by_weibo_count                float64\n",
       "cited_by_pinners_count              float64\n",
       "cited_by_linkedin_count             float64\n",
       "urn                                  object\n",
       "cited_by_book_reviews_count         float64\n",
       "editors                              object\n",
       "attribution                          object\n",
       "ordinal_number                      float64\n",
       "dtype: object"
      ]
     },
     "execution_count": 5,
     "metadata": {},
     "output_type": "execute_result"
    }
   ],
   "source": [
    "pd.set_option('display.max_rows', None)\n",
    "df.dtypes"
   ]
  },
  {
   "cell_type": "code",
   "execution_count": 4,
   "metadata": {},
   "outputs": [],
   "source": [
    "df = df.fillna(0)\n",
    "df = df.sample(frac=1)"
   ]
  },
  {
   "cell_type": "code",
   "execution_count": 7,
   "metadata": {},
   "outputs": [
    {
     "data": {
      "text/html": [
       "<div>\n",
       "<style scoped>\n",
       "    .dataframe tbody tr th:only-of-type {\n",
       "        vertical-align: middle;\n",
       "    }\n",
       "\n",
       "    .dataframe tbody tr th {\n",
       "        vertical-align: top;\n",
       "    }\n",
       "\n",
       "    .dataframe thead th {\n",
       "        text-align: right;\n",
       "    }\n",
       "</style>\n",
       "<table border=\"1\" class=\"dataframe\">\n",
       "  <thead>\n",
       "    <tr style=\"text-align: right;\">\n",
       "      <th></th>\n",
       "      <th>filename</th>\n",
       "      <th>doi_x</th>\n",
       "      <th>AccessionID</th>\n",
       "      <th>reading_time</th>\n",
       "      <th>flesch_reading_score</th>\n",
       "      <th>dale_chall_readability_score</th>\n",
       "      <th>total_paragraphs</th>\n",
       "      <th>avg_sentences_per_para</th>\n",
       "      <th>len_of_longest_paragraph</th>\n",
       "      <th>total_sentences</th>\n",
       "      <th>...</th>\n",
       "      <th>cited_by_qna_count</th>\n",
       "      <th>cited_by_peer_review_sites_count</th>\n",
       "      <th>cited_by_weibo_count</th>\n",
       "      <th>cited_by_pinners_count</th>\n",
       "      <th>cited_by_linkedin_count</th>\n",
       "      <th>urn</th>\n",
       "      <th>cited_by_book_reviews_count</th>\n",
       "      <th>editors</th>\n",
       "      <th>attribution</th>\n",
       "      <th>ordinal_number</th>\n",
       "    </tr>\n",
       "  </thead>\n",
       "  <tbody>\n",
       "    <tr>\n",
       "      <th>37127</th>\n",
       "      <td>journal.pone.0052166.xml</td>\n",
       "      <td>10.1371/journal.pone.0052166</td>\n",
       "      <td>journal.pone.0052166</td>\n",
       "      <td>29.880</td>\n",
       "      <td>21.26</td>\n",
       "      <td>7.4</td>\n",
       "      <td>38</td>\n",
       "      <td>6.29</td>\n",
       "      <td>16</td>\n",
       "      <td>239</td>\n",
       "      <td>...</td>\n",
       "      <td>0.0</td>\n",
       "      <td>0.0</td>\n",
       "      <td>0.0</td>\n",
       "      <td>0.0</td>\n",
       "      <td>0.0</td>\n",
       "      <td>0</td>\n",
       "      <td>0.0</td>\n",
       "      <td>0</td>\n",
       "      <td>0</td>\n",
       "      <td>0.0</td>\n",
       "    </tr>\n",
       "    <tr>\n",
       "      <th>145595</th>\n",
       "      <td>journal.pone.0065261.xml</td>\n",
       "      <td>10.1371/journal.pone.0065261</td>\n",
       "      <td>journal.pone.0065261</td>\n",
       "      <td>26.590</td>\n",
       "      <td>32.06</td>\n",
       "      <td>7.5</td>\n",
       "      <td>49</td>\n",
       "      <td>4.76</td>\n",
       "      <td>13</td>\n",
       "      <td>233</td>\n",
       "      <td>...</td>\n",
       "      <td>0.0</td>\n",
       "      <td>0.0</td>\n",
       "      <td>0.0</td>\n",
       "      <td>0.0</td>\n",
       "      <td>0.0</td>\n",
       "      <td>0</td>\n",
       "      <td>0.0</td>\n",
       "      <td>0</td>\n",
       "      <td>0</td>\n",
       "      <td>0.0</td>\n",
       "    </tr>\n",
       "    <tr>\n",
       "      <th>21819</th>\n",
       "      <td>journal.pmed.0050203.xml</td>\n",
       "      <td>10.1371/journal.pmed.0050203</td>\n",
       "      <td>journal.pmed.0050203</td>\n",
       "      <td>28.880</td>\n",
       "      <td>38.59</td>\n",
       "      <td>6.6</td>\n",
       "      <td>62</td>\n",
       "      <td>4.21</td>\n",
       "      <td>13</td>\n",
       "      <td>261</td>\n",
       "      <td>...</td>\n",
       "      <td>0.0</td>\n",
       "      <td>0.0</td>\n",
       "      <td>0.0</td>\n",
       "      <td>0.0</td>\n",
       "      <td>0.0</td>\n",
       "      <td>0</td>\n",
       "      <td>0.0</td>\n",
       "      <td>0</td>\n",
       "      <td>0</td>\n",
       "      <td>0.0</td>\n",
       "    </tr>\n",
       "    <tr>\n",
       "      <th>75150</th>\n",
       "      <td>journal.pone.0047522.xml</td>\n",
       "      <td>10.1371/journal.pone.0047522</td>\n",
       "      <td>journal.pone.0047522</td>\n",
       "      <td>20.155</td>\n",
       "      <td>31.35</td>\n",
       "      <td>7.4</td>\n",
       "      <td>29</td>\n",
       "      <td>5.69</td>\n",
       "      <td>15</td>\n",
       "      <td>165</td>\n",
       "      <td>...</td>\n",
       "      <td>0.0</td>\n",
       "      <td>0.0</td>\n",
       "      <td>0.0</td>\n",
       "      <td>0.0</td>\n",
       "      <td>0.0</td>\n",
       "      <td>0</td>\n",
       "      <td>0.0</td>\n",
       "      <td>0</td>\n",
       "      <td>0</td>\n",
       "      <td>0.0</td>\n",
       "    </tr>\n",
       "    <tr>\n",
       "      <th>13190</th>\n",
       "      <td>journal.pone.0188532.xml</td>\n",
       "      <td>10.1371/journal.pone.0188532</td>\n",
       "      <td>journal.pone.0188532</td>\n",
       "      <td>21.685</td>\n",
       "      <td>21.47</td>\n",
       "      <td>7.6</td>\n",
       "      <td>40</td>\n",
       "      <td>4.42</td>\n",
       "      <td>12</td>\n",
       "      <td>177</td>\n",
       "      <td>...</td>\n",
       "      <td>0.0</td>\n",
       "      <td>0.0</td>\n",
       "      <td>0.0</td>\n",
       "      <td>0.0</td>\n",
       "      <td>0.0</td>\n",
       "      <td>0</td>\n",
       "      <td>0.0</td>\n",
       "      <td>0</td>\n",
       "      <td>0</td>\n",
       "      <td>0.0</td>\n",
       "    </tr>\n",
       "    <tr>\n",
       "      <th>...</th>\n",
       "      <td>...</td>\n",
       "      <td>...</td>\n",
       "      <td>...</td>\n",
       "      <td>...</td>\n",
       "      <td>...</td>\n",
       "      <td>...</td>\n",
       "      <td>...</td>\n",
       "      <td>...</td>\n",
       "      <td>...</td>\n",
       "      <td>...</td>\n",
       "      <td>...</td>\n",
       "      <td>...</td>\n",
       "      <td>...</td>\n",
       "      <td>...</td>\n",
       "      <td>...</td>\n",
       "      <td>...</td>\n",
       "      <td>...</td>\n",
       "      <td>...</td>\n",
       "      <td>...</td>\n",
       "      <td>...</td>\n",
       "      <td>...</td>\n",
       "    </tr>\n",
       "    <tr>\n",
       "      <th>793</th>\n",
       "      <td>journal.ppat.1006340.xml</td>\n",
       "      <td>10.1371/journal.ppat.1006340</td>\n",
       "      <td>journal.ppat.1006340</td>\n",
       "      <td>39.690</td>\n",
       "      <td>22.38</td>\n",
       "      <td>7.3</td>\n",
       "      <td>53</td>\n",
       "      <td>6.23</td>\n",
       "      <td>13</td>\n",
       "      <td>330</td>\n",
       "      <td>...</td>\n",
       "      <td>0.0</td>\n",
       "      <td>0.0</td>\n",
       "      <td>0.0</td>\n",
       "      <td>0.0</td>\n",
       "      <td>0.0</td>\n",
       "      <td>0</td>\n",
       "      <td>0.0</td>\n",
       "      <td>0</td>\n",
       "      <td>0</td>\n",
       "      <td>0.0</td>\n",
       "    </tr>\n",
       "    <tr>\n",
       "      <th>109500</th>\n",
       "      <td>journal.pone.0024116.xml</td>\n",
       "      <td>10.1371/journal.pone.0024116</td>\n",
       "      <td>journal.pone.0024116</td>\n",
       "      <td>23.105</td>\n",
       "      <td>34.29</td>\n",
       "      <td>7.2</td>\n",
       "      <td>35</td>\n",
       "      <td>5.94</td>\n",
       "      <td>13</td>\n",
       "      <td>208</td>\n",
       "      <td>...</td>\n",
       "      <td>0.0</td>\n",
       "      <td>0.0</td>\n",
       "      <td>0.0</td>\n",
       "      <td>0.0</td>\n",
       "      <td>0.0</td>\n",
       "      <td>0</td>\n",
       "      <td>0.0</td>\n",
       "      <td>0</td>\n",
       "      <td>0</td>\n",
       "      <td>0.0</td>\n",
       "    </tr>\n",
       "    <tr>\n",
       "      <th>60556</th>\n",
       "      <td>journal.pone.0103600.xml</td>\n",
       "      <td>10.1371/journal.pone.0103600</td>\n",
       "      <td>journal.pone.0103600</td>\n",
       "      <td>18.160</td>\n",
       "      <td>29.42</td>\n",
       "      <td>7.2</td>\n",
       "      <td>28</td>\n",
       "      <td>5.04</td>\n",
       "      <td>12</td>\n",
       "      <td>141</td>\n",
       "      <td>...</td>\n",
       "      <td>0.0</td>\n",
       "      <td>0.0</td>\n",
       "      <td>0.0</td>\n",
       "      <td>0.0</td>\n",
       "      <td>0.0</td>\n",
       "      <td>0</td>\n",
       "      <td>0.0</td>\n",
       "      <td>0</td>\n",
       "      <td>0</td>\n",
       "      <td>0.0</td>\n",
       "    </tr>\n",
       "    <tr>\n",
       "      <th>161173</th>\n",
       "      <td>journal.pcbi.1005515.xml</td>\n",
       "      <td>10.1371/journal.pcbi.1005515</td>\n",
       "      <td>journal.pcbi.1005515</td>\n",
       "      <td>42.960</td>\n",
       "      <td>44.48</td>\n",
       "      <td>6.2</td>\n",
       "      <td>47</td>\n",
       "      <td>8.13</td>\n",
       "      <td>17</td>\n",
       "      <td>382</td>\n",
       "      <td>...</td>\n",
       "      <td>0.0</td>\n",
       "      <td>0.0</td>\n",
       "      <td>0.0</td>\n",
       "      <td>0.0</td>\n",
       "      <td>0.0</td>\n",
       "      <td>0</td>\n",
       "      <td>0.0</td>\n",
       "      <td>0</td>\n",
       "      <td>0</td>\n",
       "      <td>0.0</td>\n",
       "    </tr>\n",
       "    <tr>\n",
       "      <th>168604</th>\n",
       "      <td>journal.pone.0023420.xml</td>\n",
       "      <td>10.1371/journal.pone.0023420</td>\n",
       "      <td>journal.pone.0023420</td>\n",
       "      <td>34.985</td>\n",
       "      <td>32.46</td>\n",
       "      <td>7.1</td>\n",
       "      <td>106</td>\n",
       "      <td>3.34</td>\n",
       "      <td>9</td>\n",
       "      <td>354</td>\n",
       "      <td>...</td>\n",
       "      <td>0.0</td>\n",
       "      <td>0.0</td>\n",
       "      <td>0.0</td>\n",
       "      <td>0.0</td>\n",
       "      <td>0.0</td>\n",
       "      <td>0</td>\n",
       "      <td>0.0</td>\n",
       "      <td>0</td>\n",
       "      <td>0</td>\n",
       "      <td>0.0</td>\n",
       "    </tr>\n",
       "  </tbody>\n",
       "</table>\n",
       "<p>189848 rows × 79 columns</p>\n",
       "</div>"
      ],
      "text/plain": [
       "                        filename                         doi_x  \\\n",
       "37127   journal.pone.0052166.xml  10.1371/journal.pone.0052166   \n",
       "145595  journal.pone.0065261.xml  10.1371/journal.pone.0065261   \n",
       "21819   journal.pmed.0050203.xml  10.1371/journal.pmed.0050203   \n",
       "75150   journal.pone.0047522.xml  10.1371/journal.pone.0047522   \n",
       "13190   journal.pone.0188532.xml  10.1371/journal.pone.0188532   \n",
       "...                          ...                           ...   \n",
       "793     journal.ppat.1006340.xml  10.1371/journal.ppat.1006340   \n",
       "109500  journal.pone.0024116.xml  10.1371/journal.pone.0024116   \n",
       "60556   journal.pone.0103600.xml  10.1371/journal.pone.0103600   \n",
       "161173  journal.pcbi.1005515.xml  10.1371/journal.pcbi.1005515   \n",
       "168604  journal.pone.0023420.xml  10.1371/journal.pone.0023420   \n",
       "\n",
       "                 AccessionID  reading_time  flesch_reading_score  \\\n",
       "37127   journal.pone.0052166        29.880                 21.26   \n",
       "145595  journal.pone.0065261        26.590                 32.06   \n",
       "21819   journal.pmed.0050203        28.880                 38.59   \n",
       "75150   journal.pone.0047522        20.155                 31.35   \n",
       "13190   journal.pone.0188532        21.685                 21.47   \n",
       "...                      ...           ...                   ...   \n",
       "793     journal.ppat.1006340        39.690                 22.38   \n",
       "109500  journal.pone.0024116        23.105                 34.29   \n",
       "60556   journal.pone.0103600        18.160                 29.42   \n",
       "161173  journal.pcbi.1005515        42.960                 44.48   \n",
       "168604  journal.pone.0023420        34.985                 32.46   \n",
       "\n",
       "        dale_chall_readability_score  total_paragraphs  \\\n",
       "37127                            7.4                38   \n",
       "145595                           7.5                49   \n",
       "21819                            6.6                62   \n",
       "75150                            7.4                29   \n",
       "13190                            7.6                40   \n",
       "...                              ...               ...   \n",
       "793                              7.3                53   \n",
       "109500                           7.2                35   \n",
       "60556                            7.2                28   \n",
       "161173                           6.2                47   \n",
       "168604                           7.1               106   \n",
       "\n",
       "        avg_sentences_per_para  len_of_longest_paragraph  total_sentences  \\\n",
       "37127                     6.29                        16              239   \n",
       "145595                    4.76                        13              233   \n",
       "21819                     4.21                        13              261   \n",
       "75150                     5.69                        15              165   \n",
       "13190                     4.42                        12              177   \n",
       "...                        ...                       ...              ...   \n",
       "793                       6.23                        13              330   \n",
       "109500                    5.94                        13              208   \n",
       "60556                     5.04                        12              141   \n",
       "161173                    8.13                        17              382   \n",
       "168604                    3.34                         9              354   \n",
       "\n",
       "        ...  cited_by_qna_count  cited_by_peer_review_sites_count  \\\n",
       "37127   ...                 0.0                               0.0   \n",
       "145595  ...                 0.0                               0.0   \n",
       "21819   ...                 0.0                               0.0   \n",
       "75150   ...                 0.0                               0.0   \n",
       "13190   ...                 0.0                               0.0   \n",
       "...     ...                 ...                               ...   \n",
       "793     ...                 0.0                               0.0   \n",
       "109500  ...                 0.0                               0.0   \n",
       "60556   ...                 0.0                               0.0   \n",
       "161173  ...                 0.0                               0.0   \n",
       "168604  ...                 0.0                               0.0   \n",
       "\n",
       "        cited_by_weibo_count  cited_by_pinners_count  cited_by_linkedin_count  \\\n",
       "37127                    0.0                     0.0                      0.0   \n",
       "145595                   0.0                     0.0                      0.0   \n",
       "21819                    0.0                     0.0                      0.0   \n",
       "75150                    0.0                     0.0                      0.0   \n",
       "13190                    0.0                     0.0                      0.0   \n",
       "...                      ...                     ...                      ...   \n",
       "793                      0.0                     0.0                      0.0   \n",
       "109500                   0.0                     0.0                      0.0   \n",
       "60556                    0.0                     0.0                      0.0   \n",
       "161173                   0.0                     0.0                      0.0   \n",
       "168604                   0.0                     0.0                      0.0   \n",
       "\n",
       "        urn  cited_by_book_reviews_count  editors  attribution  ordinal_number  \n",
       "37127     0                          0.0        0            0             0.0  \n",
       "145595    0                          0.0        0            0             0.0  \n",
       "21819     0                          0.0        0            0             0.0  \n",
       "75150     0                          0.0        0            0             0.0  \n",
       "13190     0                          0.0        0            0             0.0  \n",
       "...     ...                          ...      ...          ...             ...  \n",
       "793       0                          0.0        0            0             0.0  \n",
       "109500    0                          0.0        0            0             0.0  \n",
       "60556     0                          0.0        0            0             0.0  \n",
       "161173    0                          0.0        0            0             0.0  \n",
       "168604    0                          0.0        0            0             0.0  \n",
       "\n",
       "[189848 rows x 79 columns]"
      ]
     },
     "metadata": {},
     "output_type": "display_data"
    }
   ],
   "source": [
    "display(df)"
   ]
  },
  {
   "cell_type": "markdown",
   "metadata": {},
   "source": [
    "## Multi-label --> One label"
   ]
  },
  {
   "cell_type": "code",
   "execution_count": 4,
   "metadata": {},
   "outputs": [],
   "source": [
    "features = df.iloc[:, 3: 20]\n",
    "feature_names = df.columns[3: 20]\n",
    "labels = df[['cited_by_fbwalls_count', 'cited_by_feeds_count',\n",
    "       'cited_by_gplus_count', 'cited_by_msm_count', 'cited_by_posts_count',\n",
    "       'cited_by_tweeters_count', 'cited_by_wikipedia_count',\n",
    "       'cited_by_accounts_count', 'score']]\n",
    "# features = (features - features.mean()) / features.std()\n",
    "# labels = (labels - labels.mean()) / labels.std()\n",
    "labels = labels.sum(axis=1)"
   ]
  },
  {
   "cell_type": "code",
   "execution_count": 77,
   "metadata": {},
   "outputs": [
    {
     "data": {
      "text/plain": [
       "Index(['reading_time', 'flesch_reading_score', 'dale_chall_readability_score',\n",
       "       'total_paragraphs', 'avg_sentences_per_para',\n",
       "       'len_of_longest_paragraph', 'total_sentences', 'avg_words_per_sentence',\n",
       "       'len_of_longest_sentence', 'total_words', 'compulsive_hedgers',\n",
       "       'intensifiers', 'and_frequency', 'vague_words_count',\n",
       "       'vague_words_frequency', 'polysyllab_count', 'polysyllab_frequency'],\n",
       "      dtype='object')"
      ]
     },
     "execution_count": 77,
     "metadata": {},
     "output_type": "execute_result"
    }
   ],
   "source": [
    "feature_names"
   ]
  },
  {
   "cell_type": "code",
   "execution_count": 5,
   "metadata": {},
   "outputs": [],
   "source": [
    "X_train, X_test, y_train, y_test = train_test_split(features, labels, test_size=0.2, random_state=120)"
   ]
  },
  {
   "cell_type": "code",
   "execution_count": 6,
   "metadata": {},
   "outputs": [
    {
     "data": {
      "text/plain": [
       "(151878, 17)"
      ]
     },
     "execution_count": 6,
     "metadata": {},
     "output_type": "execute_result"
    }
   ],
   "source": [
    "X_train.shape"
   ]
  },
  {
   "cell_type": "code",
   "execution_count": 7,
   "metadata": {},
   "outputs": [
    {
     "data": {
      "text/plain": [
       "(151878,)"
      ]
     },
     "execution_count": 7,
     "metadata": {},
     "output_type": "execute_result"
    }
   ],
   "source": [
    "y_train.shape"
   ]
  },
  {
   "cell_type": "code",
   "execution_count": 8,
   "metadata": {},
   "outputs": [
    {
     "data": {
      "text/plain": [
       "(37970, 17)"
      ]
     },
     "execution_count": 8,
     "metadata": {},
     "output_type": "execute_result"
    }
   ],
   "source": [
    "X_test.shape"
   ]
  },
  {
   "cell_type": "code",
   "execution_count": 9,
   "metadata": {},
   "outputs": [
    {
     "data": {
      "text/plain": [
       "(37970,)"
      ]
     },
     "execution_count": 9,
     "metadata": {},
     "output_type": "execute_result"
    }
   ],
   "source": [
    "y_test.shape"
   ]
  },
  {
   "cell_type": "code",
   "execution_count": 10,
   "metadata": {},
   "outputs": [],
   "source": [
    "X_train, X_val, y_train, y_val = train_test_split(X_train, y_train, test_size=0.2, random_state=500)"
   ]
  },
  {
   "cell_type": "code",
   "execution_count": 11,
   "metadata": {},
   "outputs": [
    {
     "data": {
      "text/plain": [
       "(121502, 17)"
      ]
     },
     "execution_count": 11,
     "metadata": {},
     "output_type": "execute_result"
    }
   ],
   "source": [
    "X_train.shape"
   ]
  },
  {
   "cell_type": "code",
   "execution_count": 12,
   "metadata": {},
   "outputs": [
    {
     "data": {
      "text/plain": [
       "(121502,)"
      ]
     },
     "execution_count": 12,
     "metadata": {},
     "output_type": "execute_result"
    }
   ],
   "source": [
    "y_train.shape"
   ]
  },
  {
   "cell_type": "code",
   "execution_count": 13,
   "metadata": {},
   "outputs": [
    {
     "data": {
      "text/plain": [
       "(30376, 17)"
      ]
     },
     "execution_count": 13,
     "metadata": {},
     "output_type": "execute_result"
    }
   ],
   "source": [
    "X_val.shape"
   ]
  },
  {
   "cell_type": "code",
   "execution_count": 14,
   "metadata": {},
   "outputs": [
    {
     "data": {
      "text/plain": [
       "(30376,)"
      ]
     },
     "execution_count": 14,
     "metadata": {},
     "output_type": "execute_result"
    }
   ],
   "source": [
    "y_val.shape"
   ]
  },
  {
   "cell_type": "markdown",
   "metadata": {},
   "source": [
    "### Random Forest Regressor"
   ]
  },
  {
   "cell_type": "code",
   "execution_count": null,
   "metadata": {},
   "outputs": [],
   "source": [
    "train_losses = []\n",
    "val_losses = []\n",
    "depths = []\n",
    "\n",
    "for depth in range(1, 50, 2):\n",
    "    depths.append(depth)\n",
    "    model = RandomForestRegressor(max_depth=depth)\n",
    "    model.fit(X_train, y_train)\n",
    "    train_pred =  model.predict(X_train)\n",
    "    train_loss = mean_squared_error(y_train, train_pred)\n",
    "    train_losses.append(train_loss)\n",
    "    val_pred = model.predict(X_val)\n",
    "    val_loss = mean_squared_error(y_val, val_pred)\n",
    "    val_losses.append(val_loss)\n",
    "    print(depth, train_loss, val_loss)"
   ]
  },
  {
   "cell_type": "code",
   "execution_count": 72,
   "metadata": {},
   "outputs": [
    {
     "data": {
      "text/plain": [
       "[<matplotlib.lines.Line2D at 0x7f3b5cc33df0>]"
      ]
     },
     "execution_count": 72,
     "metadata": {},
     "output_type": "execute_result"
    },
    {
     "data": {
      "image/png": "[encoded data removed]",
      "text/plain": [
       "<Figure size 432x288 with 1 Axes>"
      ]
     },
     "metadata": {
      "needs_background": "light"
     },
     "output_type": "display_data"
    }
   ],
   "source": [
    "plt.plot(depths, train_losses)\n",
    "plt.plot(depths, val_losses)"
   ]
  },
  {
   "cell_type": "markdown",
   "metadata": {},
   "source": [
    "### SVM"
   ]
  },
  {
   "cell_type": "code",
   "execution_count": 73,
   "metadata": {},
   "outputs": [
    {
     "ename": "NameError",
     "evalue": "name 'svm' is not defined",
     "output_type": "error",
     "traceback": [
      "\u001b[0;31m---------------------------------------------------------------------------\u001b[0m",
      "\u001b[0;31mNameError\u001b[0m                                 Traceback (most recent call last)",
      "\u001b[0;32m/tmp/ipykernel_1286/3655750416.py\u001b[0m in \u001b[0;36m<module>\u001b[0;34m\u001b[0m\n\u001b[1;32m      5\u001b[0m \u001b[0;32mfor\u001b[0m \u001b[0mdegree\u001b[0m \u001b[0;32min\u001b[0m \u001b[0mrange\u001b[0m\u001b[0;34m(\u001b[0m\u001b[0;36m1\u001b[0m\u001b[0;34m,\u001b[0m \u001b[0;36m20\u001b[0m\u001b[0;34m)\u001b[0m\u001b[0;34m:\u001b[0m\u001b[0;34m\u001b[0m\u001b[0;34m\u001b[0m\u001b[0m\n\u001b[1;32m      6\u001b[0m     \u001b[0mdepths\u001b[0m\u001b[0;34m.\u001b[0m\u001b[0mappend\u001b[0m\u001b[0;34m(\u001b[0m\u001b[0mdepth\u001b[0m\u001b[0;34m)\u001b[0m\u001b[0;34m\u001b[0m\u001b[0;34m\u001b[0m\u001b[0m\n\u001b[0;32m----> 7\u001b[0;31m     \u001b[0mmodel\u001b[0m \u001b[0;34m=\u001b[0m \u001b[0msvm\u001b[0m\u001b[0;34m.\u001b[0m\u001b[0mSVR\u001b[0m\u001b[0;34m(\u001b[0m\u001b[0mkernel\u001b[0m\u001b[0;34m=\u001b[0m\u001b[0;34m\"poly\"\u001b[0m\u001b[0;34m,\u001b[0m \u001b[0mC\u001b[0m\u001b[0;34m=\u001b[0m\u001b[0;36m100\u001b[0m\u001b[0;34m,\u001b[0m \u001b[0mgamma\u001b[0m\u001b[0;34m=\u001b[0m\u001b[0;34m\"auto\"\u001b[0m\u001b[0;34m,\u001b[0m \u001b[0mdegree\u001b[0m\u001b[0;34m=\u001b[0m\u001b[0mdegree\u001b[0m\u001b[0;34m,\u001b[0m \u001b[0mepsilon\u001b[0m\u001b[0;34m=\u001b[0m\u001b[0;36m0.1\u001b[0m\u001b[0;34m,\u001b[0m \u001b[0mcoef0\u001b[0m\u001b[0;34m=\u001b[0m\u001b[0;36m1\u001b[0m\u001b[0;34m)\u001b[0m\u001b[0;34m\u001b[0m\u001b[0;34m\u001b[0m\u001b[0m\n\u001b[0m\u001b[1;32m      8\u001b[0m     \u001b[0mmodel\u001b[0m\u001b[0;34m.\u001b[0m\u001b[0mfit\u001b[0m\u001b[0;34m(\u001b[0m\u001b[0mX_train\u001b[0m\u001b[0;34m,\u001b[0m \u001b[0my_train\u001b[0m\u001b[0;34m)\u001b[0m\u001b[0;34m\u001b[0m\u001b[0;34m\u001b[0m\u001b[0m\n\u001b[1;32m      9\u001b[0m     \u001b[0mtrain_pred\u001b[0m \u001b[0;34m=\u001b[0m  \u001b[0mmodel\u001b[0m\u001b[0;34m.\u001b[0m\u001b[0mpredict\u001b[0m\u001b[0;34m(\u001b[0m\u001b[0mX_train\u001b[0m\u001b[0;34m)\u001b[0m\u001b[0;34m\u001b[0m\u001b[0;34m\u001b[0m\u001b[0m\n",
      "\u001b[0;31mNameError\u001b[0m: name 'svm' is not defined"
     ]
    }
   ],
   "source": [
    "train_losses = []\n",
    "val_losses = []\n",
    "depths = []\n",
    "\n",
    "for degree in range(1, 20):\n",
    "    depths.append(depth)\n",
    "    model = svm.SVR(kernel=\"poly\", C=100, gamma=\"auto\", degree=degree, epsilon=0.1, coef0=1)\n",
    "    model.fit(X_train, y_train)\n",
    "    train_pred =  model.predict(X_train)\n",
    "    train_loss = mean_squared_error(y_train, train_pred)\n",
    "    train_losses.append(train_loss)\n",
    "    val_pred = model.predict(X_val)\n",
    "    val_loss = mean_squared_error(y_val, val_pred)\n",
    "    val_losses.append(val_loss)\n",
    "    print(depth, train_loss, val_loss)"
   ]
  },
  {
   "cell_type": "markdown",
   "metadata": {},
   "source": [
    "### K Nearest"
   ]
  },
  {
   "cell_type": "markdown",
   "metadata": {},
   "source": [
    "## One label"
   ]
  },
  {
   "cell_type": "code",
   "execution_count": 6,
   "metadata": {},
   "outputs": [],
   "source": [
    "features = df.iloc[:, 3: 20]\n",
    "feature_names = df.columns[3: 20]\n",
    "labels = df[['score']]\n",
    "ten_percentile = labels.quantile(0.9)\n",
    "labels = labels.loc[labels['score'] >= ten_percentile.values.item()]\n",
    "features = features.iloc[labels.index, :]\n",
    "scaler = StandardScaler().fit(features)\n",
    "features = scaler.transform(features)\n",
    "scaler2 = StandardScaler().fit(labels)\n",
    "labels = scaler2.transform(labels)"
   ]
  },
  {
   "cell_type": "code",
   "execution_count": 7,
   "metadata": {},
   "outputs": [
    {
     "data": {
      "text/plain": [
       "(18985, 17)"
      ]
     },
     "execution_count": 7,
     "metadata": {},
     "output_type": "execute_result"
    }
   ],
   "source": [
    "features.shape"
   ]
  },
  {
   "cell_type": "code",
   "execution_count": 8,
   "metadata": {},
   "outputs": [
    {
     "data": {
      "text/plain": [
       "(18985, 1)"
      ]
     },
     "execution_count": 8,
     "metadata": {},
     "output_type": "execute_result"
    }
   ],
   "source": [
    "labels.shape"
   ]
  },
  {
   "cell_type": "code",
   "execution_count": 9,
   "metadata": {},
   "outputs": [
    {
     "data": {
      "text/plain": [
       "Index(['reading_time', 'flesch_reading_score', 'dale_chall_readability_score',\n",
       "       'total_paragraphs', 'avg_sentences_per_para',\n",
       "       'len_of_longest_paragraph', 'total_sentences', 'avg_words_per_sentence',\n",
       "       'len_of_longest_sentence', 'total_words', 'compulsive_hedgers',\n",
       "       'intensifiers', 'and_frequency', 'vague_words_count',\n",
       "       'vague_words_frequency', 'polysyllab_count', 'polysyllab_frequency'],\n",
       "      dtype='object')"
      ]
     },
     "execution_count": 9,
     "metadata": {},
     "output_type": "execute_result"
    }
   ],
   "source": [
    "feature_names"
   ]
  },
  {
   "cell_type": "code",
   "execution_count": 10,
   "metadata": {},
   "outputs": [],
   "source": [
    "X_train, X_test, y_train, y_test = train_test_split(features, labels, test_size=0.2)"
   ]
  },
  {
   "cell_type": "code",
   "execution_count": 11,
   "metadata": {},
   "outputs": [
    {
     "data": {
      "text/plain": [
       "(15188, 17)"
      ]
     },
     "execution_count": 11,
     "metadata": {},
     "output_type": "execute_result"
    }
   ],
   "source": [
    "X_train.shape"
   ]
  },
  {
   "cell_type": "code",
   "execution_count": 12,
   "metadata": {},
   "outputs": [
    {
     "data": {
      "text/plain": [
       "(15188, 1)"
      ]
     },
     "execution_count": 12,
     "metadata": {},
     "output_type": "execute_result"
    }
   ],
   "source": [
    "y_train.shape"
   ]
  },
  {
   "cell_type": "code",
   "execution_count": 13,
   "metadata": {},
   "outputs": [
    {
     "data": {
      "text/plain": [
       "(3797, 17)"
      ]
     },
     "execution_count": 13,
     "metadata": {},
     "output_type": "execute_result"
    }
   ],
   "source": [
    "X_test.shape"
   ]
  },
  {
   "cell_type": "code",
   "execution_count": 14,
   "metadata": {},
   "outputs": [
    {
     "data": {
      "text/plain": [
       "(3797, 1)"
      ]
     },
     "execution_count": 14,
     "metadata": {},
     "output_type": "execute_result"
    }
   ],
   "source": [
    "y_test.shape"
   ]
  },
  {
   "cell_type": "code",
   "execution_count": 15,
   "metadata": {},
   "outputs": [],
   "source": [
    "X_train, X_val, y_train, y_val = train_test_split(X_train, y_train, test_size=0.2)"
   ]
  },
  {
   "cell_type": "code",
   "execution_count": 16,
   "metadata": {},
   "outputs": [
    {
     "data": {
      "text/plain": [
       "(12150, 17)"
      ]
     },
     "execution_count": 16,
     "metadata": {},
     "output_type": "execute_result"
    }
   ],
   "source": [
    "X_train.shape"
   ]
  },
  {
   "cell_type": "code",
   "execution_count": 17,
   "metadata": {},
   "outputs": [
    {
     "data": {
      "text/plain": [
       "(12150, 1)"
      ]
     },
     "execution_count": 17,
     "metadata": {},
     "output_type": "execute_result"
    }
   ],
   "source": [
    "y_train.shape"
   ]
  },
  {
   "cell_type": "code",
   "execution_count": 18,
   "metadata": {},
   "outputs": [
    {
     "data": {
      "text/plain": [
       "(3038, 17)"
      ]
     },
     "execution_count": 18,
     "metadata": {},
     "output_type": "execute_result"
    }
   ],
   "source": [
    "X_val.shape"
   ]
  },
  {
   "cell_type": "code",
   "execution_count": 19,
   "metadata": {},
   "outputs": [
    {
     "data": {
      "text/plain": [
       "(3038, 1)"
      ]
     },
     "execution_count": 19,
     "metadata": {},
     "output_type": "execute_result"
    }
   ],
   "source": [
    "y_val.shape"
   ]
  },
  {
   "cell_type": "markdown",
   "metadata": {},
   "source": [
    "### Random Forest Regressor"
   ]
  },
  {
   "cell_type": "code",
   "execution_count": 124,
   "metadata": {},
   "outputs": [
    {
     "name": "stdout",
     "output_type": "stream",
     "text": [
      "1 0.9662366769870702 0.6014638899826618\n",
      "3 0.8981500220087203 0.6016919870178906\n",
      "5 0.8081579878875854 0.6025801756046945\n",
      "7 0.6982635869797934 0.5961619361397886\n",
      "9 0.5745405979363906 0.5934002355204436\n",
      "11 0.47283498032973625 0.5897865075116784\n",
      "13 0.37496799624210203 0.5895724739850338\n",
      "15 0.3114596683716153 0.5805194275869678\n",
      "17 0.24544841249103092 0.5897219602062371\n",
      "19 0.2026616811879154 0.5935113470425214\n"
     ]
    }
   ],
   "source": [
    "train_losses = []\n",
    "val_losses = []\n",
    "depths = []\n",
    "\n",
    "for depth in range(1, 20, 2):\n",
    "    depths.append(depth)\n",
    "    model = RandomForestRegressor(max_depth=depth)\n",
    "    model.fit(X_train, y_train)\n",
    "    train_pred =  model.predict(X_train)\n",
    "    train_loss = mean_squared_error(y_train, train_pred)\n",
    "    train_losses.append(train_loss)\n",
    "    val_pred = model.predict(X_val)\n",
    "    val_loss = mean_squared_error(y_val, val_pred)\n",
    "    val_losses.append(val_loss)\n",
    "    print(depth, train_loss, val_loss)"
   ]
  },
  {
   "cell_type": "code",
   "execution_count": 125,
   "metadata": {},
   "outputs": [
    {
     "data": {
      "text/plain": [
       "[<matplotlib.lines.Line2D at 0x7f6ec872cf70>]"
      ]
     },
     "execution_count": 125,
     "metadata": {},
     "output_type": "execute_result"
    },
    {
     "data": {
      "image/png": "[encoded data removed]",
      "text/plain": [
       "<Figure size 432x288 with 1 Axes>"
      ]
     },
     "metadata": {
      "needs_background": "light"
     },
     "output_type": "display_data"
    }
   ],
   "source": [
    "plt.plot(depths, train_losses)\n",
    "plt.plot(depths, val_losses)"
   ]
  },
  {
   "cell_type": "markdown",
   "metadata": {},
   "source": [
    "### SVM"
   ]
  },
  {
   "cell_type": "code",
   "execution_count": 19,
   "metadata": {},
   "outputs": [
    {
     "name": "stdout",
     "output_type": "stream",
     "text": [
      "0.1 0.9652300572896527 0.5690028701831091\n",
      "0.2 0.9644058128464404 0.5696851814248899\n",
      "0.30000000000000004 0.9638248180219879 0.5718677950690246\n",
      "0.4 0.9633658890825079 0.5738333685213038\n",
      "0.5 0.9629810694842016 0.5818124202424254\n",
      "0.6 0.9626894843008406 0.5913621841069949\n",
      "0.7000000000000001 0.9624082119127046 0.6063384514241837\n",
      "0.8 0.962127515426404 0.626735620983751\n",
      "0.9 0.9619814242231046 0.6422994804588767\n"
     ]
    }
   ],
   "source": [
    "train_losses = []\n",
    "val_losses = []\n",
    "Cs = []\n",
    "\n",
    "for C in np.arange(0.1, 1, 0.1):\n",
    "    model = svm.SVR(kernel=\"poly\", C=C, gamma=\"auto\")\n",
    "    model.fit(X_train, y_train)\n",
    "    train_pred = model.predict(X_train)\n",
    "    train_loss = mean_squared_error(y_train, train_pred)\n",
    "\n",
    "    val_pred = model.predict(X_val)\n",
    "    val_loss = mean_squared_error(y_val, val_pred)\n",
    "\n",
    "    train_losses.append(train_loss)\n",
    "    val_losses.append(val_loss)\n",
    "    Cs.append(C)\n",
    "    print(C, train_loss, val_loss)"
   ]
  },
  {
   "cell_type": "code",
   "execution_count": 20,
   "metadata": {},
   "outputs": [
    {
     "data": {
      "text/plain": [
       "[<matplotlib.lines.Line2D at 0x7fd5d2d73d90>]"
      ]
     },
     "execution_count": 20,
     "metadata": {},
     "output_type": "execute_result"
    },
    {
     "data": {
      "image/png": "[encoded data removed]",
      "text/plain": [
       "<Figure size 432x288 with 1 Axes>"
      ]
     },
     "metadata": {
      "needs_background": "light"
     },
     "output_type": "display_data"
    }
   ],
   "source": [
    "plt.plot(Cs, train_losses)\n",
    "plt.plot(Cs, val_losses)"
   ]
  },
  {
   "cell_type": "markdown",
   "metadata": {},
   "source": [
    "### Decision Tree"
   ]
  },
  {
   "cell_type": "code",
   "execution_count": 21,
   "metadata": {},
   "outputs": [
    {
     "name": "stdout",
     "output_type": "stream",
     "text": [
      "1 0.9224406027430735 0.5299369060161482\n",
      "3 0.8544185704053054 0.7127514050108599\n",
      "5 0.8427113057775023 0.7322389233647114\n",
      "7 0.682420684859984 0.7317956823088814\n",
      "9 0.6347384227792057 0.8747225833948262\n",
      "11 0.6044901598926798 0.8769924711979034\n",
      "13 0.5393030495346771 1.0528202805818379\n",
      "15 0.5010776534482977 0.9709257899182485\n",
      "17 0.45789786745859884 0.9952631336937456\n",
      "19 0.3322287205968784 1.1604123316138215\n"
     ]
    }
   ],
   "source": [
    "train_losses = []\n",
    "val_losses = []\n",
    "depths = []\n",
    "\n",
    "for depth in range(1, 20, 2):\n",
    "    model = DecisionTreeRegressor(max_depth=depth)\n",
    "    model.fit(X_train, y_train)\n",
    "    train_pred =  model.predict(X_train)\n",
    "    train_loss = mean_squared_error(y_train, train_pred)\n",
    "    val_pred = model.predict(X_val)\n",
    "    val_loss = mean_squared_error(y_val, val_pred)\n",
    "\n",
    "    train_losses.append(train_loss)\n",
    "    val_losses.append(val_loss)\n",
    "    depths.append(depth)\n",
    "    print(depth, train_loss, val_loss)"
   ]
  },
  {
   "cell_type": "code",
   "execution_count": 22,
   "metadata": {},
   "outputs": [
    {
     "data": {
      "text/plain": [
       "[<matplotlib.lines.Line2D at 0x7fd5d16937f0>]"
      ]
     },
     "execution_count": 22,
     "metadata": {},
     "output_type": "execute_result"
    },
    {
     "data": {
      "image/png": "[encoded data removed]",
      "text/plain": [
       "<Figure size 432x288 with 1 Axes>"
      ]
     },
     "metadata": {
      "needs_background": "light"
     },
     "output_type": "display_data"
    }
   ],
   "source": [
    "plt.plot(depths, train_losses)\n",
    "plt.plot(depths, val_losses)"
   ]
  },
  {
   "cell_type": "markdown",
   "metadata": {},
   "source": [
    "### K-nearest"
   ]
  },
  {
   "cell_type": "code",
   "execution_count": 23,
   "metadata": {},
   "outputs": [
    {
     "name": "stdout",
     "output_type": "stream",
     "text": [
      "5 0.7285761939465532 0.6949923279577527\n",
      "7 0.7858336969484446 0.6633349069970634\n",
      "9 0.8251224397871096 0.627752639033071\n",
      "11 0.8417733009402302 0.6096022441048594\n",
      "13 0.8567846229234704 0.591489387918855\n",
      "15 0.8646542709790358 0.5809457995102818\n",
      "17 0.8704156774969759 0.5753474559929491\n",
      "19 0.8756664651857335 0.5635069350333421\n",
      "21 0.880547514557336 0.5625984668361196\n",
      "23 0.8835239230771762 0.5596308508609401\n",
      "25 0.8873460593222005 0.5564852630747223\n",
      "27 0.8904944948885127 0.5548298244601849\n",
      "29 0.8935695869755961 0.5522184257511334\n"
     ]
    }
   ],
   "source": [
    "train_losses = []\n",
    "val_losses = []\n",
    "neighbors = []\n",
    "\n",
    "for n in range(5, 30, 2):\n",
    "    model = KNeighborsRegressor(n_neighbors=n)\n",
    "    model.fit(X_train, y_train)\n",
    "    train_pred =  model.predict(X_train)\n",
    "    train_loss = mean_squared_error(y_train, train_pred)\n",
    "    val_pred = model.predict(X_val)\n",
    "    val_loss = mean_squared_error(y_val, val_pred)\n",
    "\n",
    "    train_losses.append(train_loss)\n",
    "    val_losses.append(val_loss)\n",
    "    neighbors.append(n)\n",
    "    print(n, train_loss, val_loss)"
   ]
  },
  {
   "cell_type": "code",
   "execution_count": 25,
   "metadata": {},
   "outputs": [
    {
     "data": {
      "text/plain": [
       "[<matplotlib.lines.Line2D at 0x7fd5d2b25a30>]"
      ]
     },
     "execution_count": 25,
     "metadata": {},
     "output_type": "execute_result"
    },
    {
     "data": {
      "image/png": "[encoded data removed]",
      "text/plain": [
       "<Figure size 432x288 with 1 Axes>"
      ]
     },
     "metadata": {
      "needs_background": "light"
     },
     "output_type": "display_data"
    }
   ],
   "source": [
    "plt.plot(neighbors, train_losses)\n",
    "plt.plot(neighbors, val_losses)"
   ]
  },
  {
   "cell_type": "markdown",
   "metadata": {},
   "source": [
    "### MLP"
   ]
  },
  {
   "cell_type": "code",
   "execution_count": 21,
   "metadata": {},
   "outputs": [
    {
     "data": {
      "text/plain": [
       "(12150, 17)"
      ]
     },
     "execution_count": 21,
     "metadata": {},
     "output_type": "execute_result"
    }
   ],
   "source": [
    "X_train.shape"
   ]
  },
  {
   "cell_type": "code",
   "execution_count": 30,
   "metadata": {},
   "outputs": [
    {
     "name": "stdout",
     "output_type": "stream",
     "text": [
      "0.0001 0.7438911749147737 1.1861527399691971\n",
      "0.0002 0.4713873555731121 1.1955057912816098\n",
      "0.00030000000000000003 0.2869581238319395 1.2456420251523563\n",
      "0.0004 1.1409173008074145 1.0236666626767896\n",
      "0.0005 0.36330841818834525 1.3109010700590007\n",
      "0.0006000000000000001 0.6566094948364556 1.2717450535011916\n",
      "0.0007000000000000001 1.1409243921459598 1.0236376096904864\n",
      "0.0008 0.3252787799761781 1.2329533479288348\n",
      "0.0009000000000000001 0.6474300291389513 1.2733991701092295\n",
      "0.001 0.7152120091780596 1.2454597668338439\n",
      "0.0011 1.1409203582138814 1.0236475722707707\n",
      "0.0012000000000000001 0.34267814059009766 1.1437316787435678\n",
      "0.0013000000000000002 1.140917668747072 1.0236624211678444\n",
      "0.0014000000000000002 1.140917763697761 1.0236921362091442\n",
      "0.0015 0.3544778983667642 1.1747145522153695\n",
      "0.0016 1.1409171810356562 1.0236838998333007\n",
      "0.0017000000000000001 1.1409171885982499 1.0236684814282644\n",
      "0.0018000000000000002 1.1409171725505678 1.0236837221816388\n",
      "0.0019000000000000002 1.140917192115342 1.0236684172114494\n",
      "0.002 1.1409172279237505 1.0236848211309841\n",
      "0.0021 1.1409172246614627 1.0236847599580554\n",
      "0.0022 1.1409192474045087 1.023652234765361\n",
      "0.0023 1.140925411138779 1.023734864455624\n",
      "0.0024 0.7964485337066837 1.193246637216285\n",
      "0.0025 1.1409234635398486 1.0237267114149489\n",
      "0.0026 1.1409177467526395 1.023691951455982\n",
      "0.0027 1.1409176664477771 1.0236624430602639\n",
      "0.0028 1.1409170038961793 1.02367831892485\n",
      "0.0029 0.9274280278963732 1.1219329899606183\n",
      "0.003 0.7587311239399191 1.1240021819821602\n",
      "0.0031 1.1409187309923159 1.0236548923307158\n",
      "0.0032 0.9242125171460557 1.1284038879860168\n",
      "0.0033 1.1409271458451815 1.023630907773056\n",
      "0.0034 1.0726674341484466 1.0577994863399662\n",
      "0.0035 1.0113284699189302 1.044366041179679\n",
      "0.0036 1.1409190770500501 1.0237032463804272\n",
      "0.0037 1.142656856068577 1.024691988401699\n",
      "0.0038 0.9856824813408173 1.0570525643761217\n",
      "0.0039 1.1409169874390486 1.0236758682639426\n",
      "0.004 1.140917210693656 1.0236844934188738\n",
      "0.0041 1.1409257990963915 1.023633358168016\n",
      "0.004200000000000001 1.1409233305956104 1.0236386977200496\n",
      "0.004300000000000001 1.1016482370485705 1.0727148810232532\n",
      "0.0044 1.140918283484466 1.0236576034158973\n",
      "0.0045000000000000005 1.1409171607914552 1.023669011448237\n",
      "0.004600000000000001 1.140918135039096 1.023658620863068\n",
      "0.0047 1.1409170302840985 1.0236725119202863\n",
      "0.0048000000000000004 1.1409655787429276 1.0236036742166021\n",
      "0.004900000000000001 1.140917151794174 1.0236832704908068\n",
      "0.005 1.0800650997575805 1.0401537231479134\n",
      "0.0051 1.0275038213983385 1.1368995568246423\n",
      "0.005200000000000001 1.140967758434046 1.0236031701493273\n",
      "0.005300000000000001 1.1409220898067096 1.0236419645750008\n",
      "0.0054 1.14092416754089 1.0236367402296145\n",
      "0.0055000000000000005 0.9895838497533899 1.173841629307123\n",
      "0.005600000000000001 0.9986524170251764 1.0649519089911474\n",
      "0.0057 1.1074439622682135 1.0408978523415167\n",
      "0.0058000000000000005 1.1409511650095483 1.0236087787541652\n",
      "0.005900000000000001 1.1414315523372622 1.0245843351070567\n",
      "0.006 1.1409642937245 1.023603999652403\n",
      "0.0061 1.1403095313191207 1.0240467099145505\n",
      "0.006200000000000001 1.385010350322548 1.100832581088958\n",
      "0.006300000000000001 1.14092675079071 1.0236315990075429\n",
      "0.0064 1.1097919711353457 1.02817338178918\n",
      "0.006500000000000001 1.1410262566058391 1.0236039109812383\n",
      "0.006600000000000001 1.1409283739657818 1.0237460197931072\n",
      "0.0067 1.0944315061556769 1.040384618226082\n",
      "0.0068000000000000005 1.1410001706583905 1.023600955410764\n",
      "0.006900000000000001 1.1410657011961336 1.0236131278220562\n",
      "0.007000000000000001 1.1412672431428041 1.0243511417835551\n",
      "0.0071 1.140964200792152 1.0236040240311408\n",
      "0.007200000000000001 1.0927944126833598 1.0493765239834614\n",
      "0.007300000000000001 1.1409171298838565 1.0236696560563343\n",
      "0.0074 1.140930979756614 1.0236251368574876\n",
      "0.007500000000000001 1.0816914003431066 1.0557843339833801\n",
      "0.007600000000000001 1.1434360488066684 1.0253240282775726\n",
      "0.0077 1.140918465935357 1.0236986502363095\n",
      "0.0078000000000000005 1.0059382406435842 1.0870132679052973\n",
      "0.0079 1.1409754694379057 1.0238672764062366\n",
      "0.008 1.14091723584279 1.0236676629782628\n",
      "0.0081 1.1409208278332672 1.0236458945562454\n",
      "0.008199999999999999 1.1409274971706462 1.0237428429791349\n",
      "0.0083 1.141102132316656 1.0240973738811143\n",
      "0.0084 1.1409315579252022 1.0236243873013362\n",
      "0.0085 1.14091916074782 1.023703827587934\n",
      "0.0086 1.140935377130431 1.023620028587805\n",
      "0.0087 1.1409258113739582 1.0237364474876054\n",
      "0.0088 1.1409248786037447 1.0236352028385394\n",
      "0.0089 1.1409195969893142 1.0237067143478535\n",
      "0.009 1.14099288830465 1.0236007607617215\n",
      "0.0091 1.1409957499674943 1.0239088608937452\n",
      "0.0092 1.140956939530298 1.0236063160096176\n",
      "0.0093 1.1225985462460144 1.033596692972503\n",
      "0.0094 1.1409284644698325 1.0237463425859157\n",
      "0.0095 1.1423522500329695 1.025768857944554\n",
      "0.0096 1.1335980527451464 1.0265049321362656\n",
      "0.0097 1.1413369807354399 1.0246064201284661\n",
      "0.0098 1.1409919610554822 1.0239013214498738\n",
      "0.009899999999999999 1.141640032488797 1.0239324189799963\n"
     ]
    }
   ],
   "source": [
    "train_losses = []\n",
    "val_losses = []\n",
    "lrs = []\n",
    "\n",
    "for lr in np.arange(0.0001, 0.01, 0.0001):\n",
    "    model = MLPRegressor(hidden_layer_sizes=(17, 100, 50, 25, 10, 1), learning_rate_init=lr, max_iter=10000)\n",
    "    model.fit(X_train, y_train)\n",
    "    train_pred =  model.predict(X_train)\n",
    "    train_loss = mean_squared_error(y_train, train_pred)\n",
    "    val_pred = model.predict(X_val)\n",
    "    val_loss = mean_squared_error(y_val, val_pred)\n",
    "\n",
    "    train_losses.append(train_loss)\n",
    "    val_losses.append(val_loss)\n",
    "    lrs.append(lr)\n",
    "    print(lr, train_loss, val_loss)"
   ]
  },
  {
   "cell_type": "code",
   "execution_count": 31,
   "metadata": {},
   "outputs": [
    {
     "data": {
      "text/plain": [
       "[<matplotlib.lines.Line2D at 0x7fc058fce550>]"
      ]
     },
     "execution_count": 31,
     "metadata": {},
     "output_type": "execute_result"
    },
    {
     "data": {
      "image/png": "[encoded data removed]",
      "text/plain": [
       "<Figure size 432x288 with 1 Axes>"
      ]
     },
     "metadata": {
      "needs_background": "light"
     },
     "output_type": "display_data"
    }
   ],
   "source": [
    "plt.plot(lrs, train_losses, color='r')\n",
    "plt.plot(lrs, val_losses)"
   ]
  }
 ],
 "metadata": {
  "interpreter": {
   "hash": "0aa56e41c01f6c43421d0614935c5e1c44bba66cdd747a9cda84f6a3566cfb67"
  },
  "kernelspec": {
   "display_name": "Python 3.7.3 64-bit",
   "language": "python",
   "name": "python3"
  },
  "language_info": {
   "codemirror_mode": {
    "name": "ipython",
    "version": 3
   },
   "file_extension": ".py",
   "mimetype": "text/x-python",
   "name": "python",
   "nbconvert_exporter": "python",
   "pygments_lexer": "ipython3",
   "version": "3.8.12"
  },
  "orig_nbformat": 4
 },
 "nbformat": 4,
 "nbformat_minor": 2
}
