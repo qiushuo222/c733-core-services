{
 "cells": [
  {
   "cell_type": "code",
   "execution_count": 2,
   "metadata": {},
   "outputs": [],
   "source": [
    "import numpy as np\n",
    "import pandas as pd\n",
    "from matplotlib import pyplot as plt\n",
    "import torch.nn as nn\n",
    "from torch.nn import Sequential\n",
    "from torch.autograd import Variable\n",
    "\n",
    "from sklearn.ensemble import RandomForestRegressor\n",
    "from sklearn.model_selection import train_test_split\n",
    "from sklearn.metrics import mean_squared_error\n",
    "from sklearn import svm\n",
    "\n",
    "from IPython.display import Markdown, display"
   ]
  },
  {
   "cell_type": "markdown",
   "metadata": {},
   "source": [
    "## Load Data"
   ]
  },
  {
   "cell_type": "code",
   "execution_count": 3,
   "metadata": {},
   "outputs": [
    {
     "name": "stderr",
     "output_type": "stream",
     "text": [
      "/tmp/ipykernel_7150/4005757943.py:1: DtypeWarning: Columns (67,75,77,78) have mixed types. Specify dtype option on import or set low_memory=False.\n",
      "  df = pd.read_csv(\n"
     ]
    }
   ],
   "source": [
    "df = pd.read_csv(\n",
    "    \"data/plos_fulldata.csv\",\n",
    "    # names=header,\n",
    "    index_col=0)"
   ]
  },
  {
   "cell_type": "code",
   "execution_count": 4,
   "metadata": {},
   "outputs": [
    {
     "data": {
      "text/html": [
       "<div>\n",
       "<style scoped>\n",
       "    .dataframe tbody tr th:only-of-type {\n",
       "        vertical-align: middle;\n",
       "    }\n",
       "\n",
       "    .dataframe tbody tr th {\n",
       "        vertical-align: top;\n",
       "    }\n",
       "\n",
       "    .dataframe thead th {\n",
       "        text-align: right;\n",
       "    }\n",
       "</style>\n",
       "<table border=\"1\" class=\"dataframe\">\n",
       "  <thead>\n",
       "    <tr style=\"text-align: right;\">\n",
       "      <th></th>\n",
       "      <th>filename</th>\n",
       "      <th>doi_x</th>\n",
       "      <th>AccessionID</th>\n",
       "      <th>reading_time</th>\n",
       "      <th>flesch_reading_score</th>\n",
       "      <th>dale_chall_readability_score</th>\n",
       "      <th>total_paragraphs</th>\n",
       "      <th>avg_sentences_per_para</th>\n",
       "      <th>len_of_longest_paragraph</th>\n",
       "      <th>total_sentences</th>\n",
       "      <th>...</th>\n",
       "      <th>cited_by_qna_count</th>\n",
       "      <th>cited_by_peer_review_sites_count</th>\n",
       "      <th>cited_by_weibo_count</th>\n",
       "      <th>cited_by_pinners_count</th>\n",
       "      <th>cited_by_linkedin_count</th>\n",
       "      <th>urn</th>\n",
       "      <th>cited_by_book_reviews_count</th>\n",
       "      <th>editors</th>\n",
       "      <th>attribution</th>\n",
       "      <th>ordinal_number</th>\n",
       "    </tr>\n",
       "  </thead>\n",
       "  <tbody>\n",
       "    <tr>\n",
       "      <th>0</th>\n",
       "      <td>journal.pone.0080347.xml</td>\n",
       "      <td>10.1371/journal.pone.0080347</td>\n",
       "      <td>journal.pone.0080347</td>\n",
       "      <td>29.270</td>\n",
       "      <td>38.69</td>\n",
       "      <td>7.5</td>\n",
       "      <td>36</td>\n",
       "      <td>6.72</td>\n",
       "      <td>21</td>\n",
       "      <td>242</td>\n",
       "      <td>...</td>\n",
       "      <td>NaN</td>\n",
       "      <td>NaN</td>\n",
       "      <td>NaN</td>\n",
       "      <td>NaN</td>\n",
       "      <td>NaN</td>\n",
       "      <td>NaN</td>\n",
       "      <td>NaN</td>\n",
       "      <td>NaN</td>\n",
       "      <td>NaN</td>\n",
       "      <td>NaN</td>\n",
       "    </tr>\n",
       "    <tr>\n",
       "      <th>1</th>\n",
       "      <td>journal.pone.0054670.xml</td>\n",
       "      <td>10.1371/journal.pone.0054670</td>\n",
       "      <td>journal.pone.0054670</td>\n",
       "      <td>17.565</td>\n",
       "      <td>29.11</td>\n",
       "      <td>7.3</td>\n",
       "      <td>33</td>\n",
       "      <td>4.67</td>\n",
       "      <td>13</td>\n",
       "      <td>154</td>\n",
       "      <td>...</td>\n",
       "      <td>NaN</td>\n",
       "      <td>NaN</td>\n",
       "      <td>NaN</td>\n",
       "      <td>NaN</td>\n",
       "      <td>NaN</td>\n",
       "      <td>NaN</td>\n",
       "      <td>NaN</td>\n",
       "      <td>NaN</td>\n",
       "      <td>NaN</td>\n",
       "      <td>NaN</td>\n",
       "    </tr>\n",
       "    <tr>\n",
       "      <th>2</th>\n",
       "      <td>journal.pone.0195986.xml</td>\n",
       "      <td>10.1371/journal.pone.0195986</td>\n",
       "      <td>journal.pone.0195986</td>\n",
       "      <td>25.780</td>\n",
       "      <td>26.14</td>\n",
       "      <td>7.7</td>\n",
       "      <td>48</td>\n",
       "      <td>4.98</td>\n",
       "      <td>10</td>\n",
       "      <td>239</td>\n",
       "      <td>...</td>\n",
       "      <td>NaN</td>\n",
       "      <td>NaN</td>\n",
       "      <td>NaN</td>\n",
       "      <td>NaN</td>\n",
       "      <td>NaN</td>\n",
       "      <td>NaN</td>\n",
       "      <td>NaN</td>\n",
       "      <td>NaN</td>\n",
       "      <td>NaN</td>\n",
       "      <td>NaN</td>\n",
       "    </tr>\n",
       "    <tr>\n",
       "      <th>3</th>\n",
       "      <td>journal.pone.0150364.xml</td>\n",
       "      <td>10.1371/journal.pone.0150364</td>\n",
       "      <td>journal.pone.0150364</td>\n",
       "      <td>25.815</td>\n",
       "      <td>28.30</td>\n",
       "      <td>7.8</td>\n",
       "      <td>43</td>\n",
       "      <td>4.81</td>\n",
       "      <td>10</td>\n",
       "      <td>207</td>\n",
       "      <td>...</td>\n",
       "      <td>NaN</td>\n",
       "      <td>NaN</td>\n",
       "      <td>NaN</td>\n",
       "      <td>NaN</td>\n",
       "      <td>NaN</td>\n",
       "      <td>NaN</td>\n",
       "      <td>NaN</td>\n",
       "      <td>NaN</td>\n",
       "      <td>NaN</td>\n",
       "      <td>NaN</td>\n",
       "    </tr>\n",
       "    <tr>\n",
       "      <th>4</th>\n",
       "      <td>journal.pone.0184653.xml</td>\n",
       "      <td>10.1371/journal.pone.0184653</td>\n",
       "      <td>journal.pone.0184653</td>\n",
       "      <td>27.640</td>\n",
       "      <td>34.60</td>\n",
       "      <td>7.2</td>\n",
       "      <td>47</td>\n",
       "      <td>5.40</td>\n",
       "      <td>16</td>\n",
       "      <td>254</td>\n",
       "      <td>...</td>\n",
       "      <td>NaN</td>\n",
       "      <td>NaN</td>\n",
       "      <td>NaN</td>\n",
       "      <td>NaN</td>\n",
       "      <td>NaN</td>\n",
       "      <td>NaN</td>\n",
       "      <td>NaN</td>\n",
       "      <td>NaN</td>\n",
       "      <td>NaN</td>\n",
       "      <td>NaN</td>\n",
       "    </tr>\n",
       "    <tr>\n",
       "      <th>...</th>\n",
       "      <td>...</td>\n",
       "      <td>...</td>\n",
       "      <td>...</td>\n",
       "      <td>...</td>\n",
       "      <td>...</td>\n",
       "      <td>...</td>\n",
       "      <td>...</td>\n",
       "      <td>...</td>\n",
       "      <td>...</td>\n",
       "      <td>...</td>\n",
       "      <td>...</td>\n",
       "      <td>...</td>\n",
       "      <td>...</td>\n",
       "      <td>...</td>\n",
       "      <td>...</td>\n",
       "      <td>...</td>\n",
       "      <td>...</td>\n",
       "      <td>...</td>\n",
       "      <td>...</td>\n",
       "      <td>...</td>\n",
       "      <td>...</td>\n",
       "    </tr>\n",
       "    <tr>\n",
       "      <th>189843</th>\n",
       "      <td>journal.pone.0212848.xml</td>\n",
       "      <td>10.1371/journal.pone.0212848</td>\n",
       "      <td>journal.pone.0212848</td>\n",
       "      <td>16.840</td>\n",
       "      <td>29.56</td>\n",
       "      <td>7.6</td>\n",
       "      <td>36</td>\n",
       "      <td>3.64</td>\n",
       "      <td>10</td>\n",
       "      <td>131</td>\n",
       "      <td>...</td>\n",
       "      <td>NaN</td>\n",
       "      <td>NaN</td>\n",
       "      <td>NaN</td>\n",
       "      <td>NaN</td>\n",
       "      <td>NaN</td>\n",
       "      <td>NaN</td>\n",
       "      <td>NaN</td>\n",
       "      <td>NaN</td>\n",
       "      <td>NaN</td>\n",
       "      <td>NaN</td>\n",
       "    </tr>\n",
       "    <tr>\n",
       "      <th>189844</th>\n",
       "      <td>journal.pone.0157412.xml</td>\n",
       "      <td>10.1371/journal.pone.0157412</td>\n",
       "      <td>journal.pone.0157412</td>\n",
       "      <td>16.545</td>\n",
       "      <td>22.58</td>\n",
       "      <td>6.9</td>\n",
       "      <td>24</td>\n",
       "      <td>6.38</td>\n",
       "      <td>17</td>\n",
       "      <td>153</td>\n",
       "      <td>...</td>\n",
       "      <td>NaN</td>\n",
       "      <td>NaN</td>\n",
       "      <td>NaN</td>\n",
       "      <td>NaN</td>\n",
       "      <td>NaN</td>\n",
       "      <td>NaN</td>\n",
       "      <td>NaN</td>\n",
       "      <td>NaN</td>\n",
       "      <td>NaN</td>\n",
       "      <td>NaN</td>\n",
       "    </tr>\n",
       "    <tr>\n",
       "      <th>189845</th>\n",
       "      <td>journal.pone.0109208.xml</td>\n",
       "      <td>10.1371/journal.pone.0109208</td>\n",
       "      <td>journal.pone.0109208</td>\n",
       "      <td>24.015</td>\n",
       "      <td>27.25</td>\n",
       "      <td>7.2</td>\n",
       "      <td>38</td>\n",
       "      <td>6.71</td>\n",
       "      <td>23</td>\n",
       "      <td>255</td>\n",
       "      <td>...</td>\n",
       "      <td>NaN</td>\n",
       "      <td>NaN</td>\n",
       "      <td>NaN</td>\n",
       "      <td>NaN</td>\n",
       "      <td>NaN</td>\n",
       "      <td>NaN</td>\n",
       "      <td>NaN</td>\n",
       "      <td>NaN</td>\n",
       "      <td>NaN</td>\n",
       "      <td>NaN</td>\n",
       "    </tr>\n",
       "    <tr>\n",
       "      <th>189846</th>\n",
       "      <td>journal.pntd.0004608.xml</td>\n",
       "      <td>10.1371/journal.pntd.0004608</td>\n",
       "      <td>journal.pntd.0004608</td>\n",
       "      <td>22.815</td>\n",
       "      <td>37.57</td>\n",
       "      <td>7.3</td>\n",
       "      <td>32</td>\n",
       "      <td>5.56</td>\n",
       "      <td>14</td>\n",
       "      <td>178</td>\n",
       "      <td>...</td>\n",
       "      <td>NaN</td>\n",
       "      <td>NaN</td>\n",
       "      <td>NaN</td>\n",
       "      <td>NaN</td>\n",
       "      <td>NaN</td>\n",
       "      <td>NaN</td>\n",
       "      <td>NaN</td>\n",
       "      <td>NaN</td>\n",
       "      <td>NaN</td>\n",
       "      <td>NaN</td>\n",
       "    </tr>\n",
       "    <tr>\n",
       "      <th>189847</th>\n",
       "      <td>journal.pone.0087431.xml</td>\n",
       "      <td>10.1371/journal.pone.0087431</td>\n",
       "      <td>journal.pone.0087431</td>\n",
       "      <td>7.015</td>\n",
       "      <td>33.28</td>\n",
       "      <td>8.1</td>\n",
       "      <td>22</td>\n",
       "      <td>3.32</td>\n",
       "      <td>7</td>\n",
       "      <td>73</td>\n",
       "      <td>...</td>\n",
       "      <td>NaN</td>\n",
       "      <td>NaN</td>\n",
       "      <td>NaN</td>\n",
       "      <td>NaN</td>\n",
       "      <td>NaN</td>\n",
       "      <td>NaN</td>\n",
       "      <td>NaN</td>\n",
       "      <td>NaN</td>\n",
       "      <td>NaN</td>\n",
       "      <td>NaN</td>\n",
       "    </tr>\n",
       "  </tbody>\n",
       "</table>\n",
       "<p>189848 rows × 79 columns</p>\n",
       "</div>"
      ],
      "text/plain": [
       "                        filename                         doi_x  \\\n",
       "0       journal.pone.0080347.xml  10.1371/journal.pone.0080347   \n",
       "1       journal.pone.0054670.xml  10.1371/journal.pone.0054670   \n",
       "2       journal.pone.0195986.xml  10.1371/journal.pone.0195986   \n",
       "3       journal.pone.0150364.xml  10.1371/journal.pone.0150364   \n",
       "4       journal.pone.0184653.xml  10.1371/journal.pone.0184653   \n",
       "...                          ...                           ...   \n",
       "189843  journal.pone.0212848.xml  10.1371/journal.pone.0212848   \n",
       "189844  journal.pone.0157412.xml  10.1371/journal.pone.0157412   \n",
       "189845  journal.pone.0109208.xml  10.1371/journal.pone.0109208   \n",
       "189846  journal.pntd.0004608.xml  10.1371/journal.pntd.0004608   \n",
       "189847  journal.pone.0087431.xml  10.1371/journal.pone.0087431   \n",
       "\n",
       "                 AccessionID  reading_time  flesch_reading_score  \\\n",
       "0       journal.pone.0080347        29.270                 38.69   \n",
       "1       journal.pone.0054670        17.565                 29.11   \n",
       "2       journal.pone.0195986        25.780                 26.14   \n",
       "3       journal.pone.0150364        25.815                 28.30   \n",
       "4       journal.pone.0184653        27.640                 34.60   \n",
       "...                      ...           ...                   ...   \n",
       "189843  journal.pone.0212848        16.840                 29.56   \n",
       "189844  journal.pone.0157412        16.545                 22.58   \n",
       "189845  journal.pone.0109208        24.015                 27.25   \n",
       "189846  journal.pntd.0004608        22.815                 37.57   \n",
       "189847  journal.pone.0087431         7.015                 33.28   \n",
       "\n",
       "        dale_chall_readability_score  total_paragraphs  \\\n",
       "0                                7.5                36   \n",
       "1                                7.3                33   \n",
       "2                                7.7                48   \n",
       "3                                7.8                43   \n",
       "4                                7.2                47   \n",
       "...                              ...               ...   \n",
       "189843                           7.6                36   \n",
       "189844                           6.9                24   \n",
       "189845                           7.2                38   \n",
       "189846                           7.3                32   \n",
       "189847                           8.1                22   \n",
       "\n",
       "        avg_sentences_per_para  len_of_longest_paragraph  total_sentences  \\\n",
       "0                         6.72                        21              242   \n",
       "1                         4.67                        13              154   \n",
       "2                         4.98                        10              239   \n",
       "3                         4.81                        10              207   \n",
       "4                         5.40                        16              254   \n",
       "...                        ...                       ...              ...   \n",
       "189843                    3.64                        10              131   \n",
       "189844                    6.38                        17              153   \n",
       "189845                    6.71                        23              255   \n",
       "189846                    5.56                        14              178   \n",
       "189847                    3.32                         7               73   \n",
       "\n",
       "        ...  cited_by_qna_count  cited_by_peer_review_sites_count  \\\n",
       "0       ...                 NaN                               NaN   \n",
       "1       ...                 NaN                               NaN   \n",
       "2       ...                 NaN                               NaN   \n",
       "3       ...                 NaN                               NaN   \n",
       "4       ...                 NaN                               NaN   \n",
       "...     ...                 ...                               ...   \n",
       "189843  ...                 NaN                               NaN   \n",
       "189844  ...                 NaN                               NaN   \n",
       "189845  ...                 NaN                               NaN   \n",
       "189846  ...                 NaN                               NaN   \n",
       "189847  ...                 NaN                               NaN   \n",
       "\n",
       "        cited_by_weibo_count  cited_by_pinners_count  cited_by_linkedin_count  \\\n",
       "0                        NaN                     NaN                      NaN   \n",
       "1                        NaN                     NaN                      NaN   \n",
       "2                        NaN                     NaN                      NaN   \n",
       "3                        NaN                     NaN                      NaN   \n",
       "4                        NaN                     NaN                      NaN   \n",
       "...                      ...                     ...                      ...   \n",
       "189843                   NaN                     NaN                      NaN   \n",
       "189844                   NaN                     NaN                      NaN   \n",
       "189845                   NaN                     NaN                      NaN   \n",
       "189846                   NaN                     NaN                      NaN   \n",
       "189847                   NaN                     NaN                      NaN   \n",
       "\n",
       "        urn  cited_by_book_reviews_count  editors  attribution  ordinal_number  \n",
       "0       NaN                          NaN      NaN          NaN             NaN  \n",
       "1       NaN                          NaN      NaN          NaN             NaN  \n",
       "2       NaN                          NaN      NaN          NaN             NaN  \n",
       "3       NaN                          NaN      NaN          NaN             NaN  \n",
       "4       NaN                          NaN      NaN          NaN             NaN  \n",
       "...     ...                          ...      ...          ...             ...  \n",
       "189843  NaN                          NaN      NaN          NaN             NaN  \n",
       "189844  NaN                          NaN      NaN          NaN             NaN  \n",
       "189845  NaN                          NaN      NaN          NaN             NaN  \n",
       "189846  NaN                          NaN      NaN          NaN             NaN  \n",
       "189847  NaN                          NaN      NaN          NaN             NaN  \n",
       "\n",
       "[189848 rows x 79 columns]"
      ]
     },
     "metadata": {},
     "output_type": "display_data"
    }
   ],
   "source": [
    "display(df)"
   ]
  },
  {
   "cell_type": "code",
   "execution_count": 5,
   "metadata": {},
   "outputs": [
    {
     "data": {
      "text/plain": [
       "filename                        object\n",
       "doi_x                           object\n",
       "AccessionID                     object\n",
       "reading_time                   float64\n",
       "flesch_reading_score           float64\n",
       "                                ...   \n",
       "urn                             object\n",
       "cited_by_book_reviews_count    float64\n",
       "editors                         object\n",
       "attribution                     object\n",
       "ordinal_number                 float64\n",
       "Length: 79, dtype: object"
      ]
     },
     "execution_count": 5,
     "metadata": {},
     "output_type": "execute_result"
    }
   ],
   "source": [
    "pd.set_option('display.max_rows', 20)\n",
    "df.dtypes"
   ]
  },
  {
   "cell_type": "code",
   "execution_count": 6,
   "metadata": {},
   "outputs": [],
   "source": [
    "df = df.fillna(0)\n",
    "df = df.sample(frac=1)"
   ]
  },
  {
   "cell_type": "code",
   "execution_count": 7,
   "metadata": {},
   "outputs": [
    {
     "data": {
      "text/html": [
       "<div>\n",
       "<style scoped>\n",
       "    .dataframe tbody tr th:only-of-type {\n",
       "        vertical-align: middle;\n",
       "    }\n",
       "\n",
       "    .dataframe tbody tr th {\n",
       "        vertical-align: top;\n",
       "    }\n",
       "\n",
       "    .dataframe thead th {\n",
       "        text-align: right;\n",
       "    }\n",
       "</style>\n",
       "<table border=\"1\" class=\"dataframe\">\n",
       "  <thead>\n",
       "    <tr style=\"text-align: right;\">\n",
       "      <th></th>\n",
       "      <th>filename</th>\n",
       "      <th>doi_x</th>\n",
       "      <th>AccessionID</th>\n",
       "      <th>reading_time</th>\n",
       "      <th>flesch_reading_score</th>\n",
       "      <th>dale_chall_readability_score</th>\n",
       "      <th>total_paragraphs</th>\n",
       "      <th>avg_sentences_per_para</th>\n",
       "      <th>len_of_longest_paragraph</th>\n",
       "      <th>total_sentences</th>\n",
       "      <th>...</th>\n",
       "      <th>cited_by_qna_count</th>\n",
       "      <th>cited_by_peer_review_sites_count</th>\n",
       "      <th>cited_by_weibo_count</th>\n",
       "      <th>cited_by_pinners_count</th>\n",
       "      <th>cited_by_linkedin_count</th>\n",
       "      <th>urn</th>\n",
       "      <th>cited_by_book_reviews_count</th>\n",
       "      <th>editors</th>\n",
       "      <th>attribution</th>\n",
       "      <th>ordinal_number</th>\n",
       "    </tr>\n",
       "  </thead>\n",
       "  <tbody>\n",
       "    <tr>\n",
       "      <th>37127</th>\n",
       "      <td>journal.pone.0052166.xml</td>\n",
       "      <td>10.1371/journal.pone.0052166</td>\n",
       "      <td>journal.pone.0052166</td>\n",
       "      <td>29.880</td>\n",
       "      <td>21.26</td>\n",
       "      <td>7.4</td>\n",
       "      <td>38</td>\n",
       "      <td>6.29</td>\n",
       "      <td>16</td>\n",
       "      <td>239</td>\n",
       "      <td>...</td>\n",
       "      <td>0.0</td>\n",
       "      <td>0.0</td>\n",
       "      <td>0.0</td>\n",
       "      <td>0.0</td>\n",
       "      <td>0.0</td>\n",
       "      <td>0</td>\n",
       "      <td>0.0</td>\n",
       "      <td>0</td>\n",
       "      <td>0</td>\n",
       "      <td>0.0</td>\n",
       "    </tr>\n",
       "    <tr>\n",
       "      <th>145595</th>\n",
       "      <td>journal.pone.0065261.xml</td>\n",
       "      <td>10.1371/journal.pone.0065261</td>\n",
       "      <td>journal.pone.0065261</td>\n",
       "      <td>26.590</td>\n",
       "      <td>32.06</td>\n",
       "      <td>7.5</td>\n",
       "      <td>49</td>\n",
       "      <td>4.76</td>\n",
       "      <td>13</td>\n",
       "      <td>233</td>\n",
       "      <td>...</td>\n",
       "      <td>0.0</td>\n",
       "      <td>0.0</td>\n",
       "      <td>0.0</td>\n",
       "      <td>0.0</td>\n",
       "      <td>0.0</td>\n",
       "      <td>0</td>\n",
       "      <td>0.0</td>\n",
       "      <td>0</td>\n",
       "      <td>0</td>\n",
       "      <td>0.0</td>\n",
       "    </tr>\n",
       "    <tr>\n",
       "      <th>21819</th>\n",
       "      <td>journal.pmed.0050203.xml</td>\n",
       "      <td>10.1371/journal.pmed.0050203</td>\n",
       "      <td>journal.pmed.0050203</td>\n",
       "      <td>28.880</td>\n",
       "      <td>38.59</td>\n",
       "      <td>6.6</td>\n",
       "      <td>62</td>\n",
       "      <td>4.21</td>\n",
       "      <td>13</td>\n",
       "      <td>261</td>\n",
       "      <td>...</td>\n",
       "      <td>0.0</td>\n",
       "      <td>0.0</td>\n",
       "      <td>0.0</td>\n",
       "      <td>0.0</td>\n",
       "      <td>0.0</td>\n",
       "      <td>0</td>\n",
       "      <td>0.0</td>\n",
       "      <td>0</td>\n",
       "      <td>0</td>\n",
       "      <td>0.0</td>\n",
       "    </tr>\n",
       "    <tr>\n",
       "      <th>75150</th>\n",
       "      <td>journal.pone.0047522.xml</td>\n",
       "      <td>10.1371/journal.pone.0047522</td>\n",
       "      <td>journal.pone.0047522</td>\n",
       "      <td>20.155</td>\n",
       "      <td>31.35</td>\n",
       "      <td>7.4</td>\n",
       "      <td>29</td>\n",
       "      <td>5.69</td>\n",
       "      <td>15</td>\n",
       "      <td>165</td>\n",
       "      <td>...</td>\n",
       "      <td>0.0</td>\n",
       "      <td>0.0</td>\n",
       "      <td>0.0</td>\n",
       "      <td>0.0</td>\n",
       "      <td>0.0</td>\n",
       "      <td>0</td>\n",
       "      <td>0.0</td>\n",
       "      <td>0</td>\n",
       "      <td>0</td>\n",
       "      <td>0.0</td>\n",
       "    </tr>\n",
       "    <tr>\n",
       "      <th>13190</th>\n",
       "      <td>journal.pone.0188532.xml</td>\n",
       "      <td>10.1371/journal.pone.0188532</td>\n",
       "      <td>journal.pone.0188532</td>\n",
       "      <td>21.685</td>\n",
       "      <td>21.47</td>\n",
       "      <td>7.6</td>\n",
       "      <td>40</td>\n",
       "      <td>4.42</td>\n",
       "      <td>12</td>\n",
       "      <td>177</td>\n",
       "      <td>...</td>\n",
       "      <td>0.0</td>\n",
       "      <td>0.0</td>\n",
       "      <td>0.0</td>\n",
       "      <td>0.0</td>\n",
       "      <td>0.0</td>\n",
       "      <td>0</td>\n",
       "      <td>0.0</td>\n",
       "      <td>0</td>\n",
       "      <td>0</td>\n",
       "      <td>0.0</td>\n",
       "    </tr>\n",
       "    <tr>\n",
       "      <th>...</th>\n",
       "      <td>...</td>\n",
       "      <td>...</td>\n",
       "      <td>...</td>\n",
       "      <td>...</td>\n",
       "      <td>...</td>\n",
       "      <td>...</td>\n",
       "      <td>...</td>\n",
       "      <td>...</td>\n",
       "      <td>...</td>\n",
       "      <td>...</td>\n",
       "      <td>...</td>\n",
       "      <td>...</td>\n",
       "      <td>...</td>\n",
       "      <td>...</td>\n",
       "      <td>...</td>\n",
       "      <td>...</td>\n",
       "      <td>...</td>\n",
       "      <td>...</td>\n",
       "      <td>...</td>\n",
       "      <td>...</td>\n",
       "      <td>...</td>\n",
       "    </tr>\n",
       "    <tr>\n",
       "      <th>793</th>\n",
       "      <td>journal.ppat.1006340.xml</td>\n",
       "      <td>10.1371/journal.ppat.1006340</td>\n",
       "      <td>journal.ppat.1006340</td>\n",
       "      <td>39.690</td>\n",
       "      <td>22.38</td>\n",
       "      <td>7.3</td>\n",
       "      <td>53</td>\n",
       "      <td>6.23</td>\n",
       "      <td>13</td>\n",
       "      <td>330</td>\n",
       "      <td>...</td>\n",
       "      <td>0.0</td>\n",
       "      <td>0.0</td>\n",
       "      <td>0.0</td>\n",
       "      <td>0.0</td>\n",
       "      <td>0.0</td>\n",
       "      <td>0</td>\n",
       "      <td>0.0</td>\n",
       "      <td>0</td>\n",
       "      <td>0</td>\n",
       "      <td>0.0</td>\n",
       "    </tr>\n",
       "    <tr>\n",
       "      <th>109500</th>\n",
       "      <td>journal.pone.0024116.xml</td>\n",
       "      <td>10.1371/journal.pone.0024116</td>\n",
       "      <td>journal.pone.0024116</td>\n",
       "      <td>23.105</td>\n",
       "      <td>34.29</td>\n",
       "      <td>7.2</td>\n",
       "      <td>35</td>\n",
       "      <td>5.94</td>\n",
       "      <td>13</td>\n",
       "      <td>208</td>\n",
       "      <td>...</td>\n",
       "      <td>0.0</td>\n",
       "      <td>0.0</td>\n",
       "      <td>0.0</td>\n",
       "      <td>0.0</td>\n",
       "      <td>0.0</td>\n",
       "      <td>0</td>\n",
       "      <td>0.0</td>\n",
       "      <td>0</td>\n",
       "      <td>0</td>\n",
       "      <td>0.0</td>\n",
       "    </tr>\n",
       "    <tr>\n",
       "      <th>60556</th>\n",
       "      <td>journal.pone.0103600.xml</td>\n",
       "      <td>10.1371/journal.pone.0103600</td>\n",
       "      <td>journal.pone.0103600</td>\n",
       "      <td>18.160</td>\n",
       "      <td>29.42</td>\n",
       "      <td>7.2</td>\n",
       "      <td>28</td>\n",
       "      <td>5.04</td>\n",
       "      <td>12</td>\n",
       "      <td>141</td>\n",
       "      <td>...</td>\n",
       "      <td>0.0</td>\n",
       "      <td>0.0</td>\n",
       "      <td>0.0</td>\n",
       "      <td>0.0</td>\n",
       "      <td>0.0</td>\n",
       "      <td>0</td>\n",
       "      <td>0.0</td>\n",
       "      <td>0</td>\n",
       "      <td>0</td>\n",
       "      <td>0.0</td>\n",
       "    </tr>\n",
       "    <tr>\n",
       "      <th>161173</th>\n",
       "      <td>journal.pcbi.1005515.xml</td>\n",
       "      <td>10.1371/journal.pcbi.1005515</td>\n",
       "      <td>journal.pcbi.1005515</td>\n",
       "      <td>42.960</td>\n",
       "      <td>44.48</td>\n",
       "      <td>6.2</td>\n",
       "      <td>47</td>\n",
       "      <td>8.13</td>\n",
       "      <td>17</td>\n",
       "      <td>382</td>\n",
       "      <td>...</td>\n",
       "      <td>0.0</td>\n",
       "      <td>0.0</td>\n",
       "      <td>0.0</td>\n",
       "      <td>0.0</td>\n",
       "      <td>0.0</td>\n",
       "      <td>0</td>\n",
       "      <td>0.0</td>\n",
       "      <td>0</td>\n",
       "      <td>0</td>\n",
       "      <td>0.0</td>\n",
       "    </tr>\n",
       "    <tr>\n",
       "      <th>168604</th>\n",
       "      <td>journal.pone.0023420.xml</td>\n",
       "      <td>10.1371/journal.pone.0023420</td>\n",
       "      <td>journal.pone.0023420</td>\n",
       "      <td>34.985</td>\n",
       "      <td>32.46</td>\n",
       "      <td>7.1</td>\n",
       "      <td>106</td>\n",
       "      <td>3.34</td>\n",
       "      <td>9</td>\n",
       "      <td>354</td>\n",
       "      <td>...</td>\n",
       "      <td>0.0</td>\n",
       "      <td>0.0</td>\n",
       "      <td>0.0</td>\n",
       "      <td>0.0</td>\n",
       "      <td>0.0</td>\n",
       "      <td>0</td>\n",
       "      <td>0.0</td>\n",
       "      <td>0</td>\n",
       "      <td>0</td>\n",
       "      <td>0.0</td>\n",
       "    </tr>\n",
       "  </tbody>\n",
       "</table>\n",
       "<p>189848 rows × 79 columns</p>\n",
       "</div>"
      ],
      "text/plain": [
       "                        filename                         doi_x  \\\n",
       "37127   journal.pone.0052166.xml  10.1371/journal.pone.0052166   \n",
       "145595  journal.pone.0065261.xml  10.1371/journal.pone.0065261   \n",
       "21819   journal.pmed.0050203.xml  10.1371/journal.pmed.0050203   \n",
       "75150   journal.pone.0047522.xml  10.1371/journal.pone.0047522   \n",
       "13190   journal.pone.0188532.xml  10.1371/journal.pone.0188532   \n",
       "...                          ...                           ...   \n",
       "793     journal.ppat.1006340.xml  10.1371/journal.ppat.1006340   \n",
       "109500  journal.pone.0024116.xml  10.1371/journal.pone.0024116   \n",
       "60556   journal.pone.0103600.xml  10.1371/journal.pone.0103600   \n",
       "161173  journal.pcbi.1005515.xml  10.1371/journal.pcbi.1005515   \n",
       "168604  journal.pone.0023420.xml  10.1371/journal.pone.0023420   \n",
       "\n",
       "                 AccessionID  reading_time  flesch_reading_score  \\\n",
       "37127   journal.pone.0052166        29.880                 21.26   \n",
       "145595  journal.pone.0065261        26.590                 32.06   \n",
       "21819   journal.pmed.0050203        28.880                 38.59   \n",
       "75150   journal.pone.0047522        20.155                 31.35   \n",
       "13190   journal.pone.0188532        21.685                 21.47   \n",
       "...                      ...           ...                   ...   \n",
       "793     journal.ppat.1006340        39.690                 22.38   \n",
       "109500  journal.pone.0024116        23.105                 34.29   \n",
       "60556   journal.pone.0103600        18.160                 29.42   \n",
       "161173  journal.pcbi.1005515        42.960                 44.48   \n",
       "168604  journal.pone.0023420        34.985                 32.46   \n",
       "\n",
       "        dale_chall_readability_score  total_paragraphs  \\\n",
       "37127                            7.4                38   \n",
       "145595                           7.5                49   \n",
       "21819                            6.6                62   \n",
       "75150                            7.4                29   \n",
       "13190                            7.6                40   \n",
       "...                              ...               ...   \n",
       "793                              7.3                53   \n",
       "109500                           7.2                35   \n",
       "60556                            7.2                28   \n",
       "161173                           6.2                47   \n",
       "168604                           7.1               106   \n",
       "\n",
       "        avg_sentences_per_para  len_of_longest_paragraph  total_sentences  \\\n",
       "37127                     6.29                        16              239   \n",
       "145595                    4.76                        13              233   \n",
       "21819                     4.21                        13              261   \n",
       "75150                     5.69                        15              165   \n",
       "13190                     4.42                        12              177   \n",
       "...                        ...                       ...              ...   \n",
       "793                       6.23                        13              330   \n",
       "109500                    5.94                        13              208   \n",
       "60556                     5.04                        12              141   \n",
       "161173                    8.13                        17              382   \n",
       "168604                    3.34                         9              354   \n",
       "\n",
       "        ...  cited_by_qna_count  cited_by_peer_review_sites_count  \\\n",
       "37127   ...                 0.0                               0.0   \n",
       "145595  ...                 0.0                               0.0   \n",
       "21819   ...                 0.0                               0.0   \n",
       "75150   ...                 0.0                               0.0   \n",
       "13190   ...                 0.0                               0.0   \n",
       "...     ...                 ...                               ...   \n",
       "793     ...                 0.0                               0.0   \n",
       "109500  ...                 0.0                               0.0   \n",
       "60556   ...                 0.0                               0.0   \n",
       "161173  ...                 0.0                               0.0   \n",
       "168604  ...                 0.0                               0.0   \n",
       "\n",
       "        cited_by_weibo_count  cited_by_pinners_count  cited_by_linkedin_count  \\\n",
       "37127                    0.0                     0.0                      0.0   \n",
       "145595                   0.0                     0.0                      0.0   \n",
       "21819                    0.0                     0.0                      0.0   \n",
       "75150                    0.0                     0.0                      0.0   \n",
       "13190                    0.0                     0.0                      0.0   \n",
       "...                      ...                     ...                      ...   \n",
       "793                      0.0                     0.0                      0.0   \n",
       "109500                   0.0                     0.0                      0.0   \n",
       "60556                    0.0                     0.0                      0.0   \n",
       "161173                   0.0                     0.0                      0.0   \n",
       "168604                   0.0                     0.0                      0.0   \n",
       "\n",
       "        urn  cited_by_book_reviews_count  editors  attribution  ordinal_number  \n",
       "37127     0                          0.0        0            0             0.0  \n",
       "145595    0                          0.0        0            0             0.0  \n",
       "21819     0                          0.0        0            0             0.0  \n",
       "75150     0                          0.0        0            0             0.0  \n",
       "13190     0                          0.0        0            0             0.0  \n",
       "...     ...                          ...      ...          ...             ...  \n",
       "793       0                          0.0        0            0             0.0  \n",
       "109500    0                          0.0        0            0             0.0  \n",
       "60556     0                          0.0        0            0             0.0  \n",
       "161173    0                          0.0        0            0             0.0  \n",
       "168604    0                          0.0        0            0             0.0  \n",
       "\n",
       "[189848 rows x 79 columns]"
      ]
     },
     "metadata": {},
     "output_type": "display_data"
    }
   ],
   "source": [
    "display(df)"
   ]
  },
  {
   "cell_type": "markdown",
   "metadata": {},
   "source": [
    "## Multi-label --> One label"
   ]
  },
  {
   "cell_type": "code",
   "execution_count": 76,
   "metadata": {},
   "outputs": [],
   "source": [
    "features = df.iloc[:, 3: 20]\n",
    "feature_names = df.columns[3: 20]\n",
    "labels = df[['cited_by_fbwalls_count', 'cited_by_feeds_count',\n",
    "       'cited_by_gplus_count', 'cited_by_msm_count', 'cited_by_posts_count',\n",
    "       'cited_by_tweeters_count', 'cited_by_wikipedia_count',\n",
    "       'cited_by_accounts_count', 'score']]\n",
    "# features = (features - features.mean()) / features.std()\n",
    "# labels = (labels - labels.mean()) / labels.std()\n",
    "labels = labels.sum(axis=1)"
   ]
  },
  {
   "cell_type": "code",
   "execution_count": 77,
   "metadata": {},
   "outputs": [
    {
     "data": {
      "text/plain": [
       "Index(['reading_time', 'flesch_reading_score', 'dale_chall_readability_score',\n",
       "       'total_paragraphs', 'avg_sentences_per_para',\n",
       "       'len_of_longest_paragraph', 'total_sentences', 'avg_words_per_sentence',\n",
       "       'len_of_longest_sentence', 'total_words', 'compulsive_hedgers',\n",
       "       'intensifiers', 'and_frequency', 'vague_words_count',\n",
       "       'vague_words_frequency', 'polysyllab_count', 'polysyllab_frequency'],\n",
       "      dtype='object')"
      ]
     },
     "execution_count": 77,
     "metadata": {},
     "output_type": "execute_result"
    }
   ],
   "source": [
    "feature_names"
   ]
  },
  {
   "cell_type": "code",
   "execution_count": 49,
   "metadata": {},
   "outputs": [],
   "source": [
    "X_train, X_test, y_train, y_test = train_test_split(features, labels, test_size=0.2, random_state=120)"
   ]
  },
  {
   "cell_type": "code",
   "execution_count": 50,
   "metadata": {},
   "outputs": [
    {
     "data": {
      "text/plain": [
       "(151878, 17)"
      ]
     },
     "execution_count": 50,
     "metadata": {},
     "output_type": "execute_result"
    }
   ],
   "source": [
    "X_train.shape"
   ]
  },
  {
   "cell_type": "code",
   "execution_count": 51,
   "metadata": {},
   "outputs": [
    {
     "data": {
      "text/plain": [
       "(151878,)"
      ]
     },
     "execution_count": 51,
     "metadata": {},
     "output_type": "execute_result"
    }
   ],
   "source": [
    "y_train.shape"
   ]
  },
  {
   "cell_type": "code",
   "execution_count": 52,
   "metadata": {},
   "outputs": [
    {
     "data": {
      "text/plain": [
       "(37970, 17)"
      ]
     },
     "execution_count": 52,
     "metadata": {},
     "output_type": "execute_result"
    }
   ],
   "source": [
    "X_test.shape"
   ]
  },
  {
   "cell_type": "code",
   "execution_count": 53,
   "metadata": {},
   "outputs": [
    {
     "data": {
      "text/plain": [
       "(37970,)"
      ]
     },
     "execution_count": 53,
     "metadata": {},
     "output_type": "execute_result"
    }
   ],
   "source": [
    "y_test.shape"
   ]
  },
  {
   "cell_type": "code",
   "execution_count": 54,
   "metadata": {},
   "outputs": [],
   "source": [
    "X_train, X_val, y_train, y_val = train_test_split(X_train, y_train, test_size=0.2, random_state=500)"
   ]
  },
  {
   "cell_type": "code",
   "execution_count": 55,
   "metadata": {},
   "outputs": [
    {
     "data": {
      "text/plain": [
       "(121502, 17)"
      ]
     },
     "execution_count": 55,
     "metadata": {},
     "output_type": "execute_result"
    }
   ],
   "source": [
    "X_train.shape"
   ]
  },
  {
   "cell_type": "code",
   "execution_count": 56,
   "metadata": {},
   "outputs": [
    {
     "data": {
      "text/plain": [
       "(121502,)"
      ]
     },
     "execution_count": 56,
     "metadata": {},
     "output_type": "execute_result"
    }
   ],
   "source": [
    "y_train.shape"
   ]
  },
  {
   "cell_type": "code",
   "execution_count": 57,
   "metadata": {},
   "outputs": [
    {
     "data": {
      "text/plain": [
       "(30376, 17)"
      ]
     },
     "execution_count": 57,
     "metadata": {},
     "output_type": "execute_result"
    }
   ],
   "source": [
    "X_val.shape"
   ]
  },
  {
   "cell_type": "code",
   "execution_count": 58,
   "metadata": {},
   "outputs": [
    {
     "data": {
      "text/plain": [
       "(30376,)"
      ]
     },
     "execution_count": 58,
     "metadata": {},
     "output_type": "execute_result"
    }
   ],
   "source": [
    "y_val.shape"
   ]
  },
  {
   "cell_type": "markdown",
   "metadata": {},
   "source": [
    "### Random Forest Regressor"
   ]
  },
  {
   "cell_type": "code",
   "execution_count": null,
   "metadata": {},
   "outputs": [],
   "source": [
    "train_losses = []\n",
    "val_losses = []\n",
    "depths = []\n",
    "\n",
    "for depth in range(1, 50, 2):\n",
    "    depths.append(depth)\n",
    "    model = RandomForestRegressor(max_depth=depth)\n",
    "    model.fit(X_train, y_train)\n",
    "    train_pred =  model.predict(X_train)\n",
    "    train_loss = mean_squared_error(y_train, train_pred)\n",
    "    train_losses.append(train_loss)\n",
    "    val_pred = model.predict(X_val)\n",
    "    val_loss = mean_squared_error(y_val, val_pred)\n",
    "    val_losses.append(val_loss)\n",
    "    print(depth, train_loss, val_loss)"
   ]
  },
  {
   "cell_type": "code",
   "execution_count": 72,
   "metadata": {},
   "outputs": [
    {
     "data": {
      "text/plain": [
       "[<matplotlib.lines.Line2D at 0x7f3b5cc33df0>]"
      ]
     },
     "execution_count": 72,
     "metadata": {},
     "output_type": "execute_result"
    },
    {
     "data": {
      "image/png": "[encoded data removed]",
      "text/plain": [
       "<Figure size 432x288 with 1 Axes>"
      ]
     },
     "metadata": {
      "needs_background": "light"
     },
     "output_type": "display_data"
    }
   ],
   "source": [
    "plt.plot(depths, train_losses)\n",
    "plt.plot(depths, val_losses)"
   ]
  },
  {
   "cell_type": "markdown",
   "metadata": {},
   "source": [
    "### SVM"
   ]
  },
  {
   "cell_type": "code",
   "execution_count": 73,
   "metadata": {},
   "outputs": [
    {
     "ename": "NameError",
     "evalue": "name 'svm' is not defined",
     "output_type": "error",
     "traceback": [
      "\u001b[0;31m---------------------------------------------------------------------------\u001b[0m",
      "\u001b[0;31mNameError\u001b[0m                                 Traceback (most recent call last)",
      "\u001b[0;32m/tmp/ipykernel_1286/3655750416.py\u001b[0m in \u001b[0;36m<module>\u001b[0;34m\u001b[0m\n\u001b[1;32m      5\u001b[0m \u001b[0;32mfor\u001b[0m \u001b[0mdegree\u001b[0m \u001b[0;32min\u001b[0m \u001b[0mrange\u001b[0m\u001b[0;34m(\u001b[0m\u001b[0;36m1\u001b[0m\u001b[0;34m,\u001b[0m \u001b[0;36m20\u001b[0m\u001b[0;34m)\u001b[0m\u001b[0;34m:\u001b[0m\u001b[0;34m\u001b[0m\u001b[0;34m\u001b[0m\u001b[0m\n\u001b[1;32m      6\u001b[0m     \u001b[0mdepths\u001b[0m\u001b[0;34m.\u001b[0m\u001b[0mappend\u001b[0m\u001b[0;34m(\u001b[0m\u001b[0mdepth\u001b[0m\u001b[0;34m)\u001b[0m\u001b[0;34m\u001b[0m\u001b[0;34m\u001b[0m\u001b[0m\n\u001b[0;32m----> 7\u001b[0;31m     \u001b[0mmodel\u001b[0m \u001b[0;34m=\u001b[0m \u001b[0msvm\u001b[0m\u001b[0;34m.\u001b[0m\u001b[0mSVR\u001b[0m\u001b[0;34m(\u001b[0m\u001b[0mkernel\u001b[0m\u001b[0;34m=\u001b[0m\u001b[0;34m\"poly\"\u001b[0m\u001b[0;34m,\u001b[0m \u001b[0mC\u001b[0m\u001b[0;34m=\u001b[0m\u001b[0;36m100\u001b[0m\u001b[0;34m,\u001b[0m \u001b[0mgamma\u001b[0m\u001b[0;34m=\u001b[0m\u001b[0;34m\"auto\"\u001b[0m\u001b[0;34m,\u001b[0m \u001b[0mdegree\u001b[0m\u001b[0;34m=\u001b[0m\u001b[0mdegree\u001b[0m\u001b[0;34m,\u001b[0m \u001b[0mepsilon\u001b[0m\u001b[0;34m=\u001b[0m\u001b[0;36m0.1\u001b[0m\u001b[0;34m,\u001b[0m \u001b[0mcoef0\u001b[0m\u001b[0;34m=\u001b[0m\u001b[0;36m1\u001b[0m\u001b[0;34m)\u001b[0m\u001b[0;34m\u001b[0m\u001b[0;34m\u001b[0m\u001b[0m\n\u001b[0m\u001b[1;32m      8\u001b[0m     \u001b[0mmodel\u001b[0m\u001b[0;34m.\u001b[0m\u001b[0mfit\u001b[0m\u001b[0;34m(\u001b[0m\u001b[0mX_train\u001b[0m\u001b[0;34m,\u001b[0m \u001b[0my_train\u001b[0m\u001b[0;34m)\u001b[0m\u001b[0;34m\u001b[0m\u001b[0;34m\u001b[0m\u001b[0m\n\u001b[1;32m      9\u001b[0m     \u001b[0mtrain_pred\u001b[0m \u001b[0;34m=\u001b[0m  \u001b[0mmodel\u001b[0m\u001b[0;34m.\u001b[0m\u001b[0mpredict\u001b[0m\u001b[0;34m(\u001b[0m\u001b[0mX_train\u001b[0m\u001b[0;34m)\u001b[0m\u001b[0;34m\u001b[0m\u001b[0;34m\u001b[0m\u001b[0m\n",
      "\u001b[0;31mNameError\u001b[0m: name 'svm' is not defined"
     ]
    }
   ],
   "source": [
    "train_losses = []\n",
    "val_losses = []\n",
    "depths = []\n",
    "\n",
    "for degree in range(1, 20):\n",
    "    depths.append(depth)\n",
    "    model = svm.SVR(kernel=\"poly\", C=100, gamma=\"auto\", degree=degree, epsilon=0.1, coef0=1)\n",
    "    model.fit(X_train, y_train)\n",
    "    train_pred =  model.predict(X_train)\n",
    "    train_loss = mean_squared_error(y_train, train_pred)\n",
    "    train_losses.append(train_loss)\n",
    "    val_pred = model.predict(X_val)\n",
    "    val_loss = mean_squared_error(y_val, val_pred)\n",
    "    val_losses.append(val_loss)\n",
    "    print(depth, train_loss, val_loss)"
   ]
  },
  {
   "cell_type": "markdown",
   "metadata": {},
   "source": [
    "### K Nearest"
   ]
  },
  {
   "cell_type": "markdown",
   "metadata": {},
   "source": [
    "## One label"
   ]
  },
  {
   "cell_type": "code",
   "execution_count": 8,
   "metadata": {},
   "outputs": [],
   "source": [
    "features = df.iloc[:, 3: 20]\n",
    "feature_names = df.columns[3: 20]\n",
    "labels = df['score']\n",
    "features = (features - features.mean()) / features.std()\n",
    "labels = (labels - labels.mean()) / labels.std()"
   ]
  },
  {
   "cell_type": "code",
   "execution_count": 9,
   "metadata": {},
   "outputs": [
    {
     "data": {
      "text/plain": [
       "Index(['reading_time', 'flesch_reading_score', 'dale_chall_readability_score',\n",
       "       'total_paragraphs', 'avg_sentences_per_para',\n",
       "       'len_of_longest_paragraph', 'total_sentences', 'avg_words_per_sentence',\n",
       "       'len_of_longest_sentence', 'total_words', 'compulsive_hedgers',\n",
       "       'intensifiers', 'and_frequency', 'vague_words_count',\n",
       "       'vague_words_frequency', 'polysyllab_count', 'polysyllab_frequency'],\n",
       "      dtype='object')"
      ]
     },
     "execution_count": 9,
     "metadata": {},
     "output_type": "execute_result"
    }
   ],
   "source": [
    "feature_names"
   ]
  },
  {
   "cell_type": "code",
   "execution_count": 10,
   "metadata": {},
   "outputs": [
    {
     "data": {
      "text/plain": [
       "37127    -0.150819\n",
       "145595   -0.036974\n",
       "21819     0.020230\n",
       "75150    -0.171569\n",
       "13190    -0.047068\n",
       "            ...   \n",
       "793      -0.146333\n",
       "109500   -0.143529\n",
       "60556    -0.179982\n",
       "161173    0.101503\n",
       "168604    0.054776\n",
       "Name: score, Length: 189848, dtype: float64"
      ]
     },
     "execution_count": 10,
     "metadata": {},
     "output_type": "execute_result"
    }
   ],
   "source": [
    "labels"
   ]
  },
  {
   "cell_type": "code",
   "execution_count": 11,
   "metadata": {},
   "outputs": [],
   "source": [
    "X_train, X_test, y_train, y_test = train_test_split(features, labels, test_size=0.2, random_state=120)"
   ]
  },
  {
   "cell_type": "code",
   "execution_count": 12,
   "metadata": {},
   "outputs": [
    {
     "data": {
      "text/plain": [
       "(151878, 17)"
      ]
     },
     "execution_count": 12,
     "metadata": {},
     "output_type": "execute_result"
    }
   ],
   "source": [
    "X_train.shape"
   ]
  },
  {
   "cell_type": "code",
   "execution_count": 13,
   "metadata": {},
   "outputs": [
    {
     "data": {
      "text/plain": [
       "(151878,)"
      ]
     },
     "execution_count": 13,
     "metadata": {},
     "output_type": "execute_result"
    }
   ],
   "source": [
    "y_train.shape"
   ]
  },
  {
   "cell_type": "code",
   "execution_count": 14,
   "metadata": {},
   "outputs": [
    {
     "data": {
      "text/plain": [
       "(37970, 17)"
      ]
     },
     "execution_count": 14,
     "metadata": {},
     "output_type": "execute_result"
    }
   ],
   "source": [
    "X_test.shape"
   ]
  },
  {
   "cell_type": "code",
   "execution_count": 15,
   "metadata": {},
   "outputs": [
    {
     "data": {
      "text/plain": [
       "(37970,)"
      ]
     },
     "execution_count": 15,
     "metadata": {},
     "output_type": "execute_result"
    }
   ],
   "source": [
    "y_test.shape"
   ]
  },
  {
   "cell_type": "code",
   "execution_count": 16,
   "metadata": {},
   "outputs": [],
   "source": [
    "X_train, X_val, y_train, y_val = train_test_split(X_train, y_train, test_size=0.2, random_state=500)"
   ]
  },
  {
   "cell_type": "code",
   "execution_count": 17,
   "metadata": {},
   "outputs": [
    {
     "data": {
      "text/plain": [
       "(121502, 17)"
      ]
     },
     "execution_count": 17,
     "metadata": {},
     "output_type": "execute_result"
    }
   ],
   "source": [
    "X_train.shape"
   ]
  },
  {
   "cell_type": "code",
   "execution_count": 18,
   "metadata": {},
   "outputs": [
    {
     "data": {
      "text/plain": [
       "(121502,)"
      ]
     },
     "execution_count": 18,
     "metadata": {},
     "output_type": "execute_result"
    }
   ],
   "source": [
    "y_train.shape"
   ]
  },
  {
   "cell_type": "code",
   "execution_count": 19,
   "metadata": {},
   "outputs": [
    {
     "data": {
      "text/plain": [
       "(30376, 17)"
      ]
     },
     "execution_count": 19,
     "metadata": {},
     "output_type": "execute_result"
    }
   ],
   "source": [
    "X_val.shape"
   ]
  },
  {
   "cell_type": "code",
   "execution_count": 20,
   "metadata": {},
   "outputs": [
    {
     "data": {
      "text/plain": [
       "(30376,)"
      ]
     },
     "execution_count": 20,
     "metadata": {},
     "output_type": "execute_result"
    }
   ],
   "source": [
    "y_val.shape"
   ]
  },
  {
   "cell_type": "markdown",
   "metadata": {},
   "source": [
    "### Random Forest Regressor"
   ]
  },
  {
   "cell_type": "code",
   "execution_count": null,
   "metadata": {},
   "outputs": [],
   "source": [
    "train_losses = []\n",
    "val_losses = []\n",
    "depths = []\n",
    "\n",
    "for depth in range(1, 20, 2):\n",
    "    depths.append(depth)\n",
    "    model = RandomForestRegressor(max_depth=depth)\n",
    "    model.fit(X_train, y_train)\n",
    "    train_pred =  model.predict(X_train)\n",
    "    train_loss = mean_squared_error(y_train, train_pred)\n",
    "    train_losses.append(train_loss)\n",
    "    val_pred = model.predict(X_val)\n",
    "    val_loss = mean_squared_error(y_val, val_pred)\n",
    "    val_losses.append(val_loss)\n",
    "    print(depth, train_loss, val_loss)"
   ]
  },
  {
   "cell_type": "code",
   "execution_count": null,
   "metadata": {},
   "outputs": [
    {
     "data": {
      "text/plain": [
       "[<matplotlib.lines.Line2D at 0x7f3b5cc33df0>]"
      ]
     },
     "metadata": {},
     "output_type": "display_data"
    },
    {
     "data": {
      "image/png": "[encoded data removed]",
      "text/plain": [
       "<Figure size 432x288 with 1 Axes>"
      ]
     },
     "metadata": {},
     "output_type": "display_data"
    }
   ],
   "source": [
    "plt.plot(depths, train_losses)\n",
    "plt.plot(depths, val_losses)"
   ]
  },
  {
   "cell_type": "markdown",
   "metadata": {},
   "source": [
    "### SVM"
   ]
  },
  {
   "cell_type": "code",
   "execution_count": 21,
   "metadata": {},
   "outputs": [],
   "source": [
    "train_losses = []\n",
    "val_losses = []\n",
    "\n",
    "model = svm.SVR(kernel=\"poly\", C=0.1, gamma=\"auto\", degree=3)\n",
    "model.fit(X_train, y_train)\n",
    "train_pred =  model.predict(X_train)\n",
    "train_loss = mean_squared_error(y_train, train_pred)\n",
    "train_losses.append(train_loss)\n",
    "val_pred = model.predict(X_val)\n",
    "val_loss = mean_squared_error(y_val, val_pred)\n",
    "val_losses.append(val_loss)\n",
    "print(train_loss, val_loss)"
   ]
  },
  {
   "cell_type": "code",
   "execution_count": null,
   "metadata": {},
   "outputs": [],
   "source": []
  }
 ],
 "metadata": {
  "interpreter": {
   "hash": "0aa56e41c01f6c43421d0614935c5e1c44bba66cdd747a9cda84f6a3566cfb67"
  },
  "kernelspec": {
   "display_name": "Python 3.7.3 64-bit",
   "language": "python",
   "name": "python3"
  },
  "language_info": {
   "codemirror_mode": {
    "name": "ipython",
    "version": 3
   },
   "file_extension": ".py",
   "mimetype": "text/x-python",
   "name": "python",
   "nbconvert_exporter": "python",
   "pygments_lexer": "ipython3",
   "version": "3.8.12"
  },
  "orig_nbformat": 4
 },
 "nbformat": 4,
 "nbformat_minor": 2
}
