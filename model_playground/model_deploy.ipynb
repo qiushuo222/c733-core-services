{
 "cells": [
  {
   "cell_type": "code",
   "execution_count": 1,
   "metadata": {},
   "outputs": [],
   "source": [
    "import numpy as np\n",
    "from IPython.display import display, Markdown\n",
    "from matplotlib import pyplot as plt\n",
    "import matplotlib\n",
    "import torch\n",
    "import torch.nn as nn\n",
    "from torch.nn import Sequential\n",
    "from torch.autograd import Variable\n",
    "import pandas as pd\n",
    "from sklearn.utils import shuffle\n",
    "import time\n",
    "import pickle"
   ]
  },
  {
   "cell_type": "markdown",
   "metadata": {},
   "source": [
    "### Load and save model"
   ]
  },
  {
   "cell_type": "code",
   "execution_count": 2,
   "metadata": {},
   "outputs": [],
   "source": [
    "def save_model(model, path):\n",
    "    # save\n",
    "    with open(path,'wb') as f:\n",
    "        pickle.dump(model,f)\n",
    "        \n",
    "def load_model(model, path):\n",
    "    # load\n",
    "    with open(path, 'rb') as f:\n",
    "        model = pickle.load(f)\n",
    "        return model"
   ]
  },
  {
   "cell_type": "markdown",
   "metadata": {},
   "source": [
    "### Model"
   ]
  },
  {
   "cell_type": "code",
   "execution_count": 3,
   "metadata": {},
   "outputs": [],
   "source": [
    "class AutoEncoderNew(nn.Module):\n",
    "    def __init__(self):\n",
    "        super(AutoEncoderNew, self).__init__()\n",
    "        self.name = \"AE\"\n",
    "        self.encoder = nn.Sequential(\n",
    "            nn.Linear(5, 4), \n",
    "            nn.ReLU(),\n",
    "            nn.Linear(4, 3), \n",
    "            nn.ReLU(),\n",
    "            nn.Linear(3, 2), \n",
    "            nn.ReLU(),\n",
    "            nn.Linear(2, 1), \n",
    "        )\n",
    "    def forward(self, x):\n",
    "        x = self.encoder(x)\n",
    "        return x"
   ]
  },
  {
   "cell_type": "markdown",
   "metadata": {},
   "source": [
    "### How to load pre-trained model"
   ]
  },
  {
   "cell_type": "code",
   "execution_count": 4,
   "metadata": {},
   "outputs": [],
   "source": [
    "model = AutoEncoderNew()\n",
    "model = load_model(model, 'val_best.pkl')"
   ]
  },
  {
   "cell_type": "markdown",
   "metadata": {},
   "source": [
    "### How to predict score"
   ]
  },
  {
   "cell_type": "code",
   "execution_count": null,
   "metadata": {},
   "outputs": [],
   "source": [
    "pred = model(dummy_features_df.float())"
   ]
  }
 ],
 "metadata": {
  "interpreter": {
   "hash": "0aa56e41c01f6c43421d0614935c5e1c44bba66cdd747a9cda84f6a3566cfb67"
  },
  "kernelspec": {
   "display_name": "Python 3.7.3 64-bit",
   "language": "python",
   "name": "python3"
  },
  "language_info": {
   "codemirror_mode": {
    "name": "ipython",
    "version": 3
   },
   "file_extension": ".py",
   "mimetype": "text/x-python",
   "name": "python",
   "nbconvert_exporter": "python",
   "pygments_lexer": "ipython3",
   "version": "3.7.3"
  },
  "orig_nbformat": 4
 },
 "nbformat": 4,
 "nbformat_minor": 2
}
